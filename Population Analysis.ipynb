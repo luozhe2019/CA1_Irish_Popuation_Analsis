{
 "cells": [
  {
   "cell_type": "code",
   "execution_count": 1,
   "id": "24e00a6f",
   "metadata": {},
   "outputs": [
    {
     "name": "stderr",
     "output_type": "stream",
     "text": [
      "C:\\Users\\luozh\\anaconda3\\lib\\site-packages\\scipy\\__init__.py:155: UserWarning: A NumPy version >=1.18.5 and <1.25.0 is required for this version of SciPy (detected version 1.26.1\n",
      "  warnings.warn(f\"A NumPy version >={np_minversion} and <{np_maxversion}\"\n"
     ]
    }
   ],
   "source": [
    "import pandas as pd\n",
    "import random\n",
    "import numpy as np\n",
    "import matplotlib.pyplot as plt\n",
    "import seaborn as sns #visualisation\n",
    "np.random.seed(42)\n",
    "random.seed(42)"
   ]
  },
  {
   "cell_type": "code",
   "execution_count": 2,
   "id": "65552018",
   "metadata": {},
   "outputs": [],
   "source": [
    "data = pd.read_csv(\"PEA11.20231025T121029.csv\")"
   ]
  },
  {
   "cell_type": "code",
   "execution_count": 3,
   "id": "cdb49ebd",
   "metadata": {},
   "outputs": [
    {
     "data": {
      "text/html": [
       "<div>\n",
       "<style scoped>\n",
       "    .dataframe tbody tr th:only-of-type {\n",
       "        vertical-align: middle;\n",
       "    }\n",
       "\n",
       "    .dataframe tbody tr th {\n",
       "        vertical-align: top;\n",
       "    }\n",
       "\n",
       "    .dataframe thead th {\n",
       "        text-align: right;\n",
       "    }\n",
       "</style>\n",
       "<table border=\"1\" class=\"dataframe\">\n",
       "  <thead>\n",
       "    <tr style=\"text-align: right;\">\n",
       "      <th></th>\n",
       "      <th>STATISTIC Label</th>\n",
       "      <th>Year</th>\n",
       "      <th>Single Year of Age</th>\n",
       "      <th>Sex</th>\n",
       "      <th>UNIT</th>\n",
       "      <th>VALUE</th>\n",
       "    </tr>\n",
       "  </thead>\n",
       "  <tbody>\n",
       "    <tr>\n",
       "      <th>0</th>\n",
       "      <td>Population estimates from 1926</td>\n",
       "      <td>1926</td>\n",
       "      <td>All ages</td>\n",
       "      <td>Both sexes</td>\n",
       "      <td>Number</td>\n",
       "      <td>2971992</td>\n",
       "    </tr>\n",
       "    <tr>\n",
       "      <th>1</th>\n",
       "      <td>Population estimates from 1926</td>\n",
       "      <td>1926</td>\n",
       "      <td>All ages</td>\n",
       "      <td>Male</td>\n",
       "      <td>Number</td>\n",
       "      <td>1506889</td>\n",
       "    </tr>\n",
       "    <tr>\n",
       "      <th>2</th>\n",
       "      <td>Population estimates from 1926</td>\n",
       "      <td>1926</td>\n",
       "      <td>All ages</td>\n",
       "      <td>Female</td>\n",
       "      <td>Number</td>\n",
       "      <td>1465103</td>\n",
       "    </tr>\n",
       "    <tr>\n",
       "      <th>3</th>\n",
       "      <td>Population estimates from 1926</td>\n",
       "      <td>1926</td>\n",
       "      <td>Under 1 year</td>\n",
       "      <td>Both sexes</td>\n",
       "      <td>Number</td>\n",
       "      <td>55391</td>\n",
       "    </tr>\n",
       "    <tr>\n",
       "      <th>4</th>\n",
       "      <td>Population estimates from 1926</td>\n",
       "      <td>1926</td>\n",
       "      <td>Under 1 year</td>\n",
       "      <td>Male</td>\n",
       "      <td>Number</td>\n",
       "      <td>28084</td>\n",
       "    </tr>\n",
       "  </tbody>\n",
       "</table>\n",
       "</div>"
      ],
      "text/plain": [
       "                  STATISTIC Label  Year Single Year of Age         Sex  \\\n",
       "0  Population estimates from 1926  1926           All ages  Both sexes   \n",
       "1  Population estimates from 1926  1926           All ages        Male   \n",
       "2  Population estimates from 1926  1926           All ages      Female   \n",
       "3  Population estimates from 1926  1926       Under 1 year  Both sexes   \n",
       "4  Population estimates from 1926  1926       Under 1 year        Male   \n",
       "\n",
       "     UNIT    VALUE  \n",
       "0  Number  2971992  \n",
       "1  Number  1506889  \n",
       "2  Number  1465103  \n",
       "3  Number    55391  \n",
       "4  Number    28084  "
      ]
     },
     "execution_count": 3,
     "metadata": {},
     "output_type": "execute_result"
    }
   ],
   "source": [
    "data.head()"
   ]
  },
  {
   "cell_type": "code",
   "execution_count": 4,
   "id": "8d18222e",
   "metadata": {},
   "outputs": [
    {
     "data": {
      "text/plain": [
       "STATISTIC Label       object\n",
       "Year                   int64\n",
       "Single Year of Age    object\n",
       "Sex                   object\n",
       "UNIT                  object\n",
       "VALUE                  int64\n",
       "dtype: object"
      ]
     },
     "execution_count": 4,
     "metadata": {},
     "output_type": "execute_result"
    }
   ],
   "source": [
    "data.dtypes"
   ]
  },
  {
   "cell_type": "code",
   "execution_count": 5,
   "id": "f4b4b41b",
   "metadata": {},
   "outputs": [
    {
     "name": "stdout",
     "output_type": "stream",
     "text": [
      "<class 'pandas.core.frame.DataFrame'>\n",
      "RangeIndex: 11817 entries, 0 to 11816\n",
      "Data columns (total 6 columns):\n",
      " #   Column              Non-Null Count  Dtype \n",
      "---  ------              --------------  ----- \n",
      " 0   STATISTIC Label     11817 non-null  object\n",
      " 1   Year                11817 non-null  int64 \n",
      " 2   Single Year of Age  11817 non-null  object\n",
      " 3   Sex                 11817 non-null  object\n",
      " 4   UNIT                11817 non-null  object\n",
      " 5   VALUE               11817 non-null  int64 \n",
      "dtypes: int64(2), object(4)\n",
      "memory usage: 554.0+ KB\n"
     ]
    }
   ],
   "source": [
    "data.info()"
   ]
  },
  {
   "cell_type": "code",
   "execution_count": 6,
   "id": "c9a789aa",
   "metadata": {},
   "outputs": [
    {
     "data": {
      "text/plain": [
       "(11817, 6)"
      ]
     },
     "execution_count": 6,
     "metadata": {},
     "output_type": "execute_result"
    }
   ],
   "source": [
    "data.shape"
   ]
  },
  {
   "cell_type": "code",
   "execution_count": 7,
   "id": "39fe35ad",
   "metadata": {},
   "outputs": [
    {
     "data": {
      "text/html": [
       "<div>\n",
       "<style scoped>\n",
       "    .dataframe tbody tr th:only-of-type {\n",
       "        vertical-align: middle;\n",
       "    }\n",
       "\n",
       "    .dataframe tbody tr th {\n",
       "        vertical-align: top;\n",
       "    }\n",
       "\n",
       "    .dataframe thead th {\n",
       "        text-align: right;\n",
       "    }\n",
       "</style>\n",
       "<table border=\"1\" class=\"dataframe\">\n",
       "  <thead>\n",
       "    <tr style=\"text-align: right;\">\n",
       "      <th></th>\n",
       "      <th>Year</th>\n",
       "      <th>VALUE</th>\n",
       "    </tr>\n",
       "  </thead>\n",
       "  <tbody>\n",
       "    <tr>\n",
       "      <th>count</th>\n",
       "      <td>11817.000000</td>\n",
       "      <td>1.181700e+04</td>\n",
       "    </tr>\n",
       "    <tr>\n",
       "      <th>mean</th>\n",
       "      <td>1996.410256</td>\n",
       "      <td>5.352461e+04</td>\n",
       "    </tr>\n",
       "    <tr>\n",
       "      <th>std</th>\n",
       "      <td>24.463165</td>\n",
       "      <td>2.867754e+05</td>\n",
       "    </tr>\n",
       "    <tr>\n",
       "      <th>min</th>\n",
       "      <td>1926.000000</td>\n",
       "      <td>6.000000e+00</td>\n",
       "    </tr>\n",
       "    <tr>\n",
       "      <th>25%</th>\n",
       "      <td>1986.000000</td>\n",
       "      <td>1.242700e+04</td>\n",
       "    </tr>\n",
       "    <tr>\n",
       "      <th>50%</th>\n",
       "      <td>2004.000000</td>\n",
       "      <td>2.667500e+04</td>\n",
       "    </tr>\n",
       "    <tr>\n",
       "      <th>75%</th>\n",
       "      <td>2014.000000</td>\n",
       "      <td>3.557700e+04</td>\n",
       "    </tr>\n",
       "    <tr>\n",
       "      <th>max</th>\n",
       "      <td>2023.000000</td>\n",
       "      <td>5.281612e+06</td>\n",
       "    </tr>\n",
       "  </tbody>\n",
       "</table>\n",
       "</div>"
      ],
      "text/plain": [
       "               Year         VALUE\n",
       "count  11817.000000  1.181700e+04\n",
       "mean    1996.410256  5.352461e+04\n",
       "std       24.463165  2.867754e+05\n",
       "min     1926.000000  6.000000e+00\n",
       "25%     1986.000000  1.242700e+04\n",
       "50%     2004.000000  2.667500e+04\n",
       "75%     2014.000000  3.557700e+04\n",
       "max     2023.000000  5.281612e+06"
      ]
     },
     "execution_count": 7,
     "metadata": {},
     "output_type": "execute_result"
    }
   ],
   "source": [
    "data.describe()"
   ]
  },
  {
   "cell_type": "code",
   "execution_count": 8,
   "id": "1a5ea602",
   "metadata": {},
   "outputs": [
    {
     "data": {
      "text/plain": [
       "STATISTIC Label       0\n",
       "Year                  0\n",
       "Single Year of Age    0\n",
       "Sex                   0\n",
       "UNIT                  0\n",
       "VALUE                 0\n",
       "dtype: int64"
      ]
     },
     "execution_count": 8,
     "metadata": {},
     "output_type": "execute_result"
    }
   ],
   "source": [
    "data.isnull().sum()"
   ]
  },
  {
   "cell_type": "code",
   "execution_count": 9,
   "id": "2457190f",
   "metadata": {},
   "outputs": [
    {
     "name": "stdout",
     "output_type": "stream",
     "text": [
      "<class 'pandas.core.frame.DataFrame'>\n",
      "RangeIndex: 11817 entries, 0 to 11816\n",
      "Data columns (total 6 columns):\n",
      " #   Column              Non-Null Count  Dtype \n",
      "---  ------              --------------  ----- \n",
      " 0   STATISTIC Label     11817 non-null  object\n",
      " 1   Year                11817 non-null  int64 \n",
      " 2   Single Year of Age  11817 non-null  object\n",
      " 3   Sex                 11817 non-null  object\n",
      " 4   UNIT                11817 non-null  object\n",
      " 5   VALUE               11817 non-null  int64 \n",
      "dtypes: int64(2), object(4)\n",
      "memory usage: 554.0+ KB\n"
     ]
    }
   ],
   "source": [
    "data.info()"
   ]
  },
  {
   "cell_type": "code",
   "execution_count": 10,
   "id": "351795cd",
   "metadata": {},
   "outputs": [],
   "source": [
    "data.drop([\"STATISTIC Label\",\"UNIT\"],axis = 1,inplace = True)"
   ]
  },
  {
   "cell_type": "code",
   "execution_count": 11,
   "id": "966ad51f",
   "metadata": {},
   "outputs": [
    {
     "data": {
      "text/html": [
       "<div>\n",
       "<style scoped>\n",
       "    .dataframe tbody tr th:only-of-type {\n",
       "        vertical-align: middle;\n",
       "    }\n",
       "\n",
       "    .dataframe tbody tr th {\n",
       "        vertical-align: top;\n",
       "    }\n",
       "\n",
       "    .dataframe thead th {\n",
       "        text-align: right;\n",
       "    }\n",
       "</style>\n",
       "<table border=\"1\" class=\"dataframe\">\n",
       "  <thead>\n",
       "    <tr style=\"text-align: right;\">\n",
       "      <th></th>\n",
       "      <th>Year</th>\n",
       "      <th>Single Year of Age</th>\n",
       "      <th>Sex</th>\n",
       "      <th>VALUE</th>\n",
       "    </tr>\n",
       "  </thead>\n",
       "  <tbody>\n",
       "    <tr>\n",
       "      <th>0</th>\n",
       "      <td>1926</td>\n",
       "      <td>All ages</td>\n",
       "      <td>Both sexes</td>\n",
       "      <td>2971992</td>\n",
       "    </tr>\n",
       "    <tr>\n",
       "      <th>1</th>\n",
       "      <td>1926</td>\n",
       "      <td>All ages</td>\n",
       "      <td>Male</td>\n",
       "      <td>1506889</td>\n",
       "    </tr>\n",
       "    <tr>\n",
       "      <th>2</th>\n",
       "      <td>1926</td>\n",
       "      <td>All ages</td>\n",
       "      <td>Female</td>\n",
       "      <td>1465103</td>\n",
       "    </tr>\n",
       "    <tr>\n",
       "      <th>3</th>\n",
       "      <td>1926</td>\n",
       "      <td>Under 1 year</td>\n",
       "      <td>Both sexes</td>\n",
       "      <td>55391</td>\n",
       "    </tr>\n",
       "    <tr>\n",
       "      <th>4</th>\n",
       "      <td>1926</td>\n",
       "      <td>Under 1 year</td>\n",
       "      <td>Male</td>\n",
       "      <td>28084</td>\n",
       "    </tr>\n",
       "  </tbody>\n",
       "</table>\n",
       "</div>"
      ],
      "text/plain": [
       "   Year Single Year of Age         Sex    VALUE\n",
       "0  1926           All ages  Both sexes  2971992\n",
       "1  1926           All ages        Male  1506889\n",
       "2  1926           All ages      Female  1465103\n",
       "3  1926       Under 1 year  Both sexes    55391\n",
       "4  1926       Under 1 year        Male    28084"
      ]
     },
     "execution_count": 11,
     "metadata": {},
     "output_type": "execute_result"
    }
   ],
   "source": [
    "data.head()"
   ]
  },
  {
   "cell_type": "code",
   "execution_count": 12,
   "id": "b1914d82",
   "metadata": {},
   "outputs": [
    {
     "data": {
      "text/plain": [
       "array(['All ages', 'Under 1 year', '1 year', '2 years', '3 years',\n",
       "       '4 years', '5 years', '6 years', '7 years', '8 years', '9 years',\n",
       "       '10 years', '11 years', '12 years', '13 years', '14 years',\n",
       "       '15 years', '16 years', '17 years', '18 years', '19 years',\n",
       "       '20 years', '21 years', '22 years', '23 years', '24 years',\n",
       "       '25 years', '26 years', '27 years', '28 years', '29 years',\n",
       "       '30 years', '31 years', '32 years', '33 years', '34 years',\n",
       "       '35 years', '36 years', '37 years', '38 years', '39 years',\n",
       "       '40 years', '41 years', '42 years', '43 years', '44 years',\n",
       "       '45 years', '46 years', '47 years', '48 years', '49 years',\n",
       "       '50 years', '51 years', '52 years', '53 years', '54 years',\n",
       "       '55 years', '56 years', '57 years', '58 years', '59 years',\n",
       "       '60 years', '61 years', '62 years', '63 years', '64 years',\n",
       "       '65 years', '66 years', '67 years', '68 years', '69 years',\n",
       "       '70 years', '71 years', '72 years', '73 years', '74 years',\n",
       "       '75 years', '76 years', '77 years', '78 years', '79 years',\n",
       "       '80 years', '81 years', '82 years', '83 years', '84 years',\n",
       "       '85 years', '86 years', '87 years', '88 years', '89 years',\n",
       "       '90 years', '91 years', '92 years', '93 years', '94 years',\n",
       "       '95 years', '96 years', '97 years', '98 years',\n",
       "       '99 years and over'], dtype=object)"
      ]
     },
     "execution_count": 12,
     "metadata": {},
     "output_type": "execute_result"
    }
   ],
   "source": [
    "data[\"Single Year of Age\"].unique()"
   ]
  },
  {
   "cell_type": "code",
   "execution_count": 13,
   "id": "edf784c7",
   "metadata": {},
   "outputs": [],
   "source": [
    "values_to_remove =[\"All ages\"]\n",
    "data = data[~data[\"Single Year of Age\"].isin(values_to_remove)]"
   ]
  },
  {
   "cell_type": "code",
   "execution_count": 14,
   "id": "81f3aa69",
   "metadata": {},
   "outputs": [],
   "source": [
    "## You can also use the drop method, but the process is a bit more complex\n",
    "values_to_remove = [\"All ages\"]\n",
    "# Find the indices of rows where \"Single Year of Age\" column contains values from values_to_remove list\n",
    "indices_to_remove = data[data[\"Single Year of Age\"].isin(values_to_remove)].index\n",
    "# Drop the rows with the found indices from the DataFrame df\n",
    "data = data.drop(indices_to_remove)"
   ]
  },
  {
   "cell_type": "code",
   "execution_count": 15,
   "id": "4a479556",
   "metadata": {},
   "outputs": [],
   "source": [
    "#ages = data[\"Single Year of Age\"].unique()\n",
    "\n",
    "#for i in ages:\n",
    "    #if i[:1] == \"U\":\n",
    "    \n",
    "        #data[\"Single Year of Age\"].replace(\"U\",0.5,inplace = True)\n",
    "    #else:\n",
    "        \n",
    "        #data[\"Single Year of Age\"].replace(i,int(i[:2]),inplace = True)\n",
    "\n",
    "\n"
   ]
  },
  {
   "cell_type": "code",
   "execution_count": 16,
   "id": "b9588278",
   "metadata": {},
   "outputs": [
    {
     "name": "stdout",
     "output_type": "stream",
     "text": [
      "       Year Single Year of Age         Sex  VALUE\n",
      "3      1926                0.5  Both sexes  55391\n",
      "4      1926                0.5        Male  28084\n",
      "5      1926                0.5      Female  27307\n",
      "6      1926                1.0  Both sexes  55876\n",
      "7      1926                1.0        Male  28374\n",
      "...     ...                ...         ...    ...\n",
      "11812  2023               98.0        Male    197\n",
      "11813  2023               98.0      Female    632\n",
      "11814  2023               99.0  Both sexes   1600\n",
      "11815  2023               99.0        Male    352\n",
      "11816  2023               99.0      Female   1248\n",
      "\n",
      "[11700 rows x 4 columns]\n"
     ]
    }
   ],
   "source": [
    "class AgeDataProcessor :\n",
    "    def __init__(self,data):\n",
    "        self.data = data\n",
    "        self.ages = data[\"Single Year of Age\"].unique()\n",
    "    \n",
    "    def process_ages(self):\n",
    "        for i in self.ages:\n",
    "            if i[:1] == \"U\":\n",
    "                self.data.loc[self.data[\"Single Year of Age\"] ==\"Under 1 year\",\"Single Year of Age\"] = 0.5\n",
    "            else:\n",
    "                self.data.loc[self.data[\"Single Year of Age\"] == i,\"Single Year of Age\"] = float(i[:2])\n",
    "processor = AgeDataProcessor(data)\n",
    "processor.process_ages()\n",
    "print(data)"
   ]
  },
  {
   "cell_type": "code",
   "execution_count": 17,
   "id": "49e36076",
   "metadata": {},
   "outputs": [
    {
     "data": {
      "text/plain": [
       "array([0.5, 1.0, 2.0, 3.0, 4.0, 5.0, 6.0, 7.0, 8.0, 9.0, 10.0, 11.0, 12.0,\n",
       "       13.0, 14.0, 15.0, 16.0, 17.0, 18.0, 19.0, 20.0, 21.0, 22.0, 23.0,\n",
       "       24.0, 25.0, 26.0, 27.0, 28.0, 29.0, 30.0, 31.0, 32.0, 33.0, 34.0,\n",
       "       35.0, 36.0, 37.0, 38.0, 39.0, 40.0, 41.0, 42.0, 43.0, 44.0, 45.0,\n",
       "       46.0, 47.0, 48.0, 49.0, 50.0, 51.0, 52.0, 53.0, 54.0, 55.0, 56.0,\n",
       "       57.0, 58.0, 59.0, 60.0, 61.0, 62.0, 63.0, 64.0, 65.0, 66.0, 67.0,\n",
       "       68.0, 69.0, 70.0, 71.0, 72.0, 73.0, 74.0, 75.0, 76.0, 77.0, 78.0,\n",
       "       79.0, 80.0, 81.0, 82.0, 83.0, 84.0, 85.0, 86.0, 87.0, 88.0, 89.0,\n",
       "       90.0, 91.0, 92.0, 93.0, 94.0, 95.0, 96.0, 97.0, 98.0, 99.0],\n",
       "      dtype=object)"
      ]
     },
     "execution_count": 17,
     "metadata": {},
     "output_type": "execute_result"
    }
   ],
   "source": [
    "data[\"Single Year of Age\"].unique()"
   ]
  },
  {
   "cell_type": "code",
   "execution_count": 18,
   "id": "c6e0dc70",
   "metadata": {
    "scrolled": true
   },
   "outputs": [
    {
     "name": "stdout",
     "output_type": "stream",
     "text": [
      "<class 'pandas.core.frame.DataFrame'>\n",
      "Int64Index: 11700 entries, 3 to 11816\n",
      "Data columns (total 4 columns):\n",
      " #   Column              Non-Null Count  Dtype \n",
      "---  ------              --------------  ----- \n",
      " 0   Year                11700 non-null  int64 \n",
      " 1   Single Year of Age  11700 non-null  object\n",
      " 2   Sex                 11700 non-null  object\n",
      " 3   VALUE               11700 non-null  int64 \n",
      "dtypes: int64(2), object(2)\n",
      "memory usage: 457.0+ KB\n"
     ]
    }
   ],
   "source": [
    "data.info()"
   ]
  },
  {
   "cell_type": "code",
   "execution_count": 19,
   "id": "3bd3cffa",
   "metadata": {},
   "outputs": [],
   "source": [
    "data['Single Year of Age'] = data['Single Year of Age'].astype(float)"
   ]
  },
  {
   "cell_type": "code",
   "execution_count": 20,
   "id": "a3b160f5",
   "metadata": {},
   "outputs": [
    {
     "name": "stdout",
     "output_type": "stream",
     "text": [
      "<class 'pandas.core.frame.DataFrame'>\n",
      "Int64Index: 11700 entries, 3 to 11816\n",
      "Data columns (total 4 columns):\n",
      " #   Column              Non-Null Count  Dtype  \n",
      "---  ------              --------------  -----  \n",
      " 0   Year                11700 non-null  int64  \n",
      " 1   Single Year of Age  11700 non-null  float64\n",
      " 2   Sex                 11700 non-null  object \n",
      " 3   VALUE               11700 non-null  int64  \n",
      "dtypes: float64(1), int64(2), object(1)\n",
      "memory usage: 457.0+ KB\n"
     ]
    }
   ],
   "source": [
    "data.info()"
   ]
  },
  {
   "cell_type": "code",
   "execution_count": 21,
   "id": "91f4e4cc",
   "metadata": {},
   "outputs": [
    {
     "data": {
      "text/html": [
       "<div>\n",
       "<style scoped>\n",
       "    .dataframe tbody tr th:only-of-type {\n",
       "        vertical-align: middle;\n",
       "    }\n",
       "\n",
       "    .dataframe tbody tr th {\n",
       "        vertical-align: top;\n",
       "    }\n",
       "\n",
       "    .dataframe thead th {\n",
       "        text-align: right;\n",
       "    }\n",
       "</style>\n",
       "<table border=\"1\" class=\"dataframe\">\n",
       "  <thead>\n",
       "    <tr style=\"text-align: right;\">\n",
       "      <th></th>\n",
       "      <th>Year</th>\n",
       "      <th>Single Year of Age</th>\n",
       "      <th>Sex</th>\n",
       "      <th>VALUE</th>\n",
       "    </tr>\n",
       "  </thead>\n",
       "  <tbody>\n",
       "    <tr>\n",
       "      <th>3</th>\n",
       "      <td>1926</td>\n",
       "      <td>0.5</td>\n",
       "      <td>Both sexes</td>\n",
       "      <td>55391</td>\n",
       "    </tr>\n",
       "    <tr>\n",
       "      <th>4</th>\n",
       "      <td>1926</td>\n",
       "      <td>0.5</td>\n",
       "      <td>Male</td>\n",
       "      <td>28084</td>\n",
       "    </tr>\n",
       "    <tr>\n",
       "      <th>5</th>\n",
       "      <td>1926</td>\n",
       "      <td>0.5</td>\n",
       "      <td>Female</td>\n",
       "      <td>27307</td>\n",
       "    </tr>\n",
       "    <tr>\n",
       "      <th>306</th>\n",
       "      <td>1936</td>\n",
       "      <td>0.5</td>\n",
       "      <td>Both sexes</td>\n",
       "      <td>53606</td>\n",
       "    </tr>\n",
       "    <tr>\n",
       "      <th>307</th>\n",
       "      <td>1936</td>\n",
       "      <td>0.5</td>\n",
       "      <td>Male</td>\n",
       "      <td>27152</td>\n",
       "    </tr>\n",
       "    <tr>\n",
       "      <th>...</th>\n",
       "      <td>...</td>\n",
       "      <td>...</td>\n",
       "      <td>...</td>\n",
       "      <td>...</td>\n",
       "    </tr>\n",
       "    <tr>\n",
       "      <th>11215</th>\n",
       "      <td>2022</td>\n",
       "      <td>0.5</td>\n",
       "      <td>Male</td>\n",
       "      <td>29546</td>\n",
       "    </tr>\n",
       "    <tr>\n",
       "      <th>11216</th>\n",
       "      <td>2022</td>\n",
       "      <td>0.5</td>\n",
       "      <td>Female</td>\n",
       "      <td>28138</td>\n",
       "    </tr>\n",
       "    <tr>\n",
       "      <th>11517</th>\n",
       "      <td>2023</td>\n",
       "      <td>0.5</td>\n",
       "      <td>Both sexes</td>\n",
       "      <td>55716</td>\n",
       "    </tr>\n",
       "    <tr>\n",
       "      <th>11518</th>\n",
       "      <td>2023</td>\n",
       "      <td>0.5</td>\n",
       "      <td>Male</td>\n",
       "      <td>27418</td>\n",
       "    </tr>\n",
       "    <tr>\n",
       "      <th>11519</th>\n",
       "      <td>2023</td>\n",
       "      <td>0.5</td>\n",
       "      <td>Female</td>\n",
       "      <td>28298</td>\n",
       "    </tr>\n",
       "  </tbody>\n",
       "</table>\n",
       "<p>117 rows × 4 columns</p>\n",
       "</div>"
      ],
      "text/plain": [
       "       Year  Single Year of Age         Sex  VALUE\n",
       "3      1926                 0.5  Both sexes  55391\n",
       "4      1926                 0.5        Male  28084\n",
       "5      1926                 0.5      Female  27307\n",
       "306    1936                 0.5  Both sexes  53606\n",
       "307    1936                 0.5        Male  27152\n",
       "...     ...                 ...         ...    ...\n",
       "11215  2022                 0.5        Male  29546\n",
       "11216  2022                 0.5      Female  28138\n",
       "11517  2023                 0.5  Both sexes  55716\n",
       "11518  2023                 0.5        Male  27418\n",
       "11519  2023                 0.5      Female  28298\n",
       "\n",
       "[117 rows x 4 columns]"
      ]
     },
     "execution_count": 21,
     "metadata": {},
     "output_type": "execute_result"
    }
   ],
   "source": [
    "data_birth = data[data[\"Single Year of Age\"] == 0.5 ]\n",
    "data_birth"
   ]
  },
  {
   "cell_type": "code",
   "execution_count": 22,
   "id": "576f8da8",
   "metadata": {},
   "outputs": [
    {
     "data": {
      "text/html": [
       "<div>\n",
       "<style scoped>\n",
       "    .dataframe tbody tr th:only-of-type {\n",
       "        vertical-align: middle;\n",
       "    }\n",
       "\n",
       "    .dataframe tbody tr th {\n",
       "        vertical-align: top;\n",
       "    }\n",
       "\n",
       "    .dataframe thead th {\n",
       "        text-align: right;\n",
       "    }\n",
       "</style>\n",
       "<table border=\"1\" class=\"dataframe\">\n",
       "  <thead>\n",
       "    <tr style=\"text-align: right;\">\n",
       "      <th></th>\n",
       "      <th>Year</th>\n",
       "      <th>Single Year of Age</th>\n",
       "      <th>Sex</th>\n",
       "      <th>VALUE</th>\n",
       "    </tr>\n",
       "  </thead>\n",
       "  <tbody>\n",
       "    <tr>\n",
       "      <th>4</th>\n",
       "      <td>1926</td>\n",
       "      <td>0.5</td>\n",
       "      <td>Male</td>\n",
       "      <td>28084</td>\n",
       "    </tr>\n",
       "    <tr>\n",
       "      <th>5</th>\n",
       "      <td>1926</td>\n",
       "      <td>0.5</td>\n",
       "      <td>Female</td>\n",
       "      <td>27307</td>\n",
       "    </tr>\n",
       "    <tr>\n",
       "      <th>7</th>\n",
       "      <td>1926</td>\n",
       "      <td>1.0</td>\n",
       "      <td>Male</td>\n",
       "      <td>28374</td>\n",
       "    </tr>\n",
       "    <tr>\n",
       "      <th>8</th>\n",
       "      <td>1926</td>\n",
       "      <td>1.0</td>\n",
       "      <td>Female</td>\n",
       "      <td>27502</td>\n",
       "    </tr>\n",
       "    <tr>\n",
       "      <th>10</th>\n",
       "      <td>1926</td>\n",
       "      <td>2.0</td>\n",
       "      <td>Male</td>\n",
       "      <td>29728</td>\n",
       "    </tr>\n",
       "    <tr>\n",
       "      <th>...</th>\n",
       "      <td>...</td>\n",
       "      <td>...</td>\n",
       "      <td>...</td>\n",
       "      <td>...</td>\n",
       "    </tr>\n",
       "    <tr>\n",
       "      <th>11810</th>\n",
       "      <td>2023</td>\n",
       "      <td>97.0</td>\n",
       "      <td>Female</td>\n",
       "      <td>821</td>\n",
       "    </tr>\n",
       "    <tr>\n",
       "      <th>11812</th>\n",
       "      <td>2023</td>\n",
       "      <td>98.0</td>\n",
       "      <td>Male</td>\n",
       "      <td>197</td>\n",
       "    </tr>\n",
       "    <tr>\n",
       "      <th>11813</th>\n",
       "      <td>2023</td>\n",
       "      <td>98.0</td>\n",
       "      <td>Female</td>\n",
       "      <td>632</td>\n",
       "    </tr>\n",
       "    <tr>\n",
       "      <th>11815</th>\n",
       "      <td>2023</td>\n",
       "      <td>99.0</td>\n",
       "      <td>Male</td>\n",
       "      <td>352</td>\n",
       "    </tr>\n",
       "    <tr>\n",
       "      <th>11816</th>\n",
       "      <td>2023</td>\n",
       "      <td>99.0</td>\n",
       "      <td>Female</td>\n",
       "      <td>1248</td>\n",
       "    </tr>\n",
       "  </tbody>\n",
       "</table>\n",
       "<p>7800 rows × 4 columns</p>\n",
       "</div>"
      ],
      "text/plain": [
       "       Year  Single Year of Age     Sex  VALUE\n",
       "4      1926                 0.5    Male  28084\n",
       "5      1926                 0.5  Female  27307\n",
       "7      1926                 1.0    Male  28374\n",
       "8      1926                 1.0  Female  27502\n",
       "10     1926                 2.0    Male  29728\n",
       "...     ...                 ...     ...    ...\n",
       "11810  2023                97.0  Female    821\n",
       "11812  2023                98.0    Male    197\n",
       "11813  2023                98.0  Female    632\n",
       "11815  2023                99.0    Male    352\n",
       "11816  2023                99.0  Female   1248\n",
       "\n",
       "[7800 rows x 4 columns]"
      ]
     },
     "execution_count": 22,
     "metadata": {},
     "output_type": "execute_result"
    }
   ],
   "source": [
    "value_to_remove = 'Both sexes'\n",
    "\n",
    "data = data[data[\"Sex\"] != value_to_remove]\n",
    "\n",
    "data"
   ]
  },
  {
   "cell_type": "code",
   "execution_count": 23,
   "id": "2d564e72",
   "metadata": {},
   "outputs": [
    {
     "data": {
      "text/html": [
       "<div>\n",
       "<style scoped>\n",
       "    .dataframe tbody tr th:only-of-type {\n",
       "        vertical-align: middle;\n",
       "    }\n",
       "\n",
       "    .dataframe tbody tr th {\n",
       "        vertical-align: top;\n",
       "    }\n",
       "\n",
       "    .dataframe thead th {\n",
       "        text-align: right;\n",
       "    }\n",
       "</style>\n",
       "<table border=\"1\" class=\"dataframe\">\n",
       "  <thead>\n",
       "    <tr style=\"text-align: right;\">\n",
       "      <th></th>\n",
       "      <th>Year</th>\n",
       "      <th>Single Year of Age</th>\n",
       "      <th>VALUE</th>\n",
       "      <th>Sex_Female</th>\n",
       "      <th>Sex_Male</th>\n",
       "    </tr>\n",
       "  </thead>\n",
       "  <tbody>\n",
       "    <tr>\n",
       "      <th>4</th>\n",
       "      <td>1926</td>\n",
       "      <td>0.5</td>\n",
       "      <td>28084</td>\n",
       "      <td>0</td>\n",
       "      <td>1</td>\n",
       "    </tr>\n",
       "    <tr>\n",
       "      <th>5</th>\n",
       "      <td>1926</td>\n",
       "      <td>0.5</td>\n",
       "      <td>27307</td>\n",
       "      <td>1</td>\n",
       "      <td>0</td>\n",
       "    </tr>\n",
       "    <tr>\n",
       "      <th>7</th>\n",
       "      <td>1926</td>\n",
       "      <td>1.0</td>\n",
       "      <td>28374</td>\n",
       "      <td>0</td>\n",
       "      <td>1</td>\n",
       "    </tr>\n",
       "    <tr>\n",
       "      <th>8</th>\n",
       "      <td>1926</td>\n",
       "      <td>1.0</td>\n",
       "      <td>27502</td>\n",
       "      <td>1</td>\n",
       "      <td>0</td>\n",
       "    </tr>\n",
       "    <tr>\n",
       "      <th>10</th>\n",
       "      <td>1926</td>\n",
       "      <td>2.0</td>\n",
       "      <td>29728</td>\n",
       "      <td>0</td>\n",
       "      <td>1</td>\n",
       "    </tr>\n",
       "    <tr>\n",
       "      <th>...</th>\n",
       "      <td>...</td>\n",
       "      <td>...</td>\n",
       "      <td>...</td>\n",
       "      <td>...</td>\n",
       "      <td>...</td>\n",
       "    </tr>\n",
       "    <tr>\n",
       "      <th>11810</th>\n",
       "      <td>2023</td>\n",
       "      <td>97.0</td>\n",
       "      <td>821</td>\n",
       "      <td>1</td>\n",
       "      <td>0</td>\n",
       "    </tr>\n",
       "    <tr>\n",
       "      <th>11812</th>\n",
       "      <td>2023</td>\n",
       "      <td>98.0</td>\n",
       "      <td>197</td>\n",
       "      <td>0</td>\n",
       "      <td>1</td>\n",
       "    </tr>\n",
       "    <tr>\n",
       "      <th>11813</th>\n",
       "      <td>2023</td>\n",
       "      <td>98.0</td>\n",
       "      <td>632</td>\n",
       "      <td>1</td>\n",
       "      <td>0</td>\n",
       "    </tr>\n",
       "    <tr>\n",
       "      <th>11815</th>\n",
       "      <td>2023</td>\n",
       "      <td>99.0</td>\n",
       "      <td>352</td>\n",
       "      <td>0</td>\n",
       "      <td>1</td>\n",
       "    </tr>\n",
       "    <tr>\n",
       "      <th>11816</th>\n",
       "      <td>2023</td>\n",
       "      <td>99.0</td>\n",
       "      <td>1248</td>\n",
       "      <td>1</td>\n",
       "      <td>0</td>\n",
       "    </tr>\n",
       "  </tbody>\n",
       "</table>\n",
       "<p>7800 rows × 5 columns</p>\n",
       "</div>"
      ],
      "text/plain": [
       "       Year  Single Year of Age  VALUE  Sex_Female  Sex_Male\n",
       "4      1926                 0.5  28084           0         1\n",
       "5      1926                 0.5  27307           1         0\n",
       "7      1926                 1.0  28374           0         1\n",
       "8      1926                 1.0  27502           1         0\n",
       "10     1926                 2.0  29728           0         1\n",
       "...     ...                 ...    ...         ...       ...\n",
       "11810  2023                97.0    821           1         0\n",
       "11812  2023                98.0    197           0         1\n",
       "11813  2023                98.0    632           1         0\n",
       "11815  2023                99.0    352           0         1\n",
       "11816  2023                99.0   1248           1         0\n",
       "\n",
       "[7800 rows x 5 columns]"
      ]
     },
     "execution_count": 23,
     "metadata": {},
     "output_type": "execute_result"
    }
   ],
   "source": [
    "from sklearn.preprocessing import OneHotEncoder\n",
    "\n",
    "ohot = OneHotEncoder(sparse = False)\n",
    "\n",
    "ohot.fit_transform(data[[\"Sex\"]])\n",
    "\n",
    "data = pd.get_dummies(data,prefix = \"Sex\",columns = [\"Sex\"])\n",
    "\n",
    "data"
   ]
  },
  {
   "cell_type": "code",
   "execution_count": 24,
   "id": "9518d20d",
   "metadata": {},
   "outputs": [
    {
     "data": {
      "text/html": [
       "<div>\n",
       "<style scoped>\n",
       "    .dataframe tbody tr th:only-of-type {\n",
       "        vertical-align: middle;\n",
       "    }\n",
       "\n",
       "    .dataframe tbody tr th {\n",
       "        vertical-align: top;\n",
       "    }\n",
       "\n",
       "    .dataframe thead th {\n",
       "        text-align: right;\n",
       "    }\n",
       "</style>\n",
       "<table border=\"1\" class=\"dataframe\">\n",
       "  <thead>\n",
       "    <tr style=\"text-align: right;\">\n",
       "      <th></th>\n",
       "      <th>Year</th>\n",
       "      <th>Single Year of Age</th>\n",
       "      <th>VALUE</th>\n",
       "      <th>Sex_Female</th>\n",
       "      <th>Sex_Male</th>\n",
       "    </tr>\n",
       "  </thead>\n",
       "  <tbody>\n",
       "    <tr>\n",
       "      <th>0</th>\n",
       "      <td>1926</td>\n",
       "      <td>0.5</td>\n",
       "      <td>28084</td>\n",
       "      <td>0</td>\n",
       "      <td>1</td>\n",
       "    </tr>\n",
       "    <tr>\n",
       "      <th>1</th>\n",
       "      <td>1926</td>\n",
       "      <td>0.5</td>\n",
       "      <td>27307</td>\n",
       "      <td>1</td>\n",
       "      <td>0</td>\n",
       "    </tr>\n",
       "    <tr>\n",
       "      <th>2</th>\n",
       "      <td>1926</td>\n",
       "      <td>1.0</td>\n",
       "      <td>28374</td>\n",
       "      <td>0</td>\n",
       "      <td>1</td>\n",
       "    </tr>\n",
       "    <tr>\n",
       "      <th>3</th>\n",
       "      <td>1926</td>\n",
       "      <td>1.0</td>\n",
       "      <td>27502</td>\n",
       "      <td>1</td>\n",
       "      <td>0</td>\n",
       "    </tr>\n",
       "    <tr>\n",
       "      <th>4</th>\n",
       "      <td>1926</td>\n",
       "      <td>2.0</td>\n",
       "      <td>29728</td>\n",
       "      <td>0</td>\n",
       "      <td>1</td>\n",
       "    </tr>\n",
       "    <tr>\n",
       "      <th>...</th>\n",
       "      <td>...</td>\n",
       "      <td>...</td>\n",
       "      <td>...</td>\n",
       "      <td>...</td>\n",
       "      <td>...</td>\n",
       "    </tr>\n",
       "    <tr>\n",
       "      <th>7795</th>\n",
       "      <td>2023</td>\n",
       "      <td>97.0</td>\n",
       "      <td>821</td>\n",
       "      <td>1</td>\n",
       "      <td>0</td>\n",
       "    </tr>\n",
       "    <tr>\n",
       "      <th>7796</th>\n",
       "      <td>2023</td>\n",
       "      <td>98.0</td>\n",
       "      <td>197</td>\n",
       "      <td>0</td>\n",
       "      <td>1</td>\n",
       "    </tr>\n",
       "    <tr>\n",
       "      <th>7797</th>\n",
       "      <td>2023</td>\n",
       "      <td>98.0</td>\n",
       "      <td>632</td>\n",
       "      <td>1</td>\n",
       "      <td>0</td>\n",
       "    </tr>\n",
       "    <tr>\n",
       "      <th>7798</th>\n",
       "      <td>2023</td>\n",
       "      <td>99.0</td>\n",
       "      <td>352</td>\n",
       "      <td>0</td>\n",
       "      <td>1</td>\n",
       "    </tr>\n",
       "    <tr>\n",
       "      <th>7799</th>\n",
       "      <td>2023</td>\n",
       "      <td>99.0</td>\n",
       "      <td>1248</td>\n",
       "      <td>1</td>\n",
       "      <td>0</td>\n",
       "    </tr>\n",
       "  </tbody>\n",
       "</table>\n",
       "<p>7800 rows × 5 columns</p>\n",
       "</div>"
      ],
      "text/plain": [
       "      Year  Single Year of Age  VALUE  Sex_Female  Sex_Male\n",
       "0     1926                 0.5  28084           0         1\n",
       "1     1926                 0.5  27307           1         0\n",
       "2     1926                 1.0  28374           0         1\n",
       "3     1926                 1.0  27502           1         0\n",
       "4     1926                 2.0  29728           0         1\n",
       "...    ...                 ...    ...         ...       ...\n",
       "7795  2023                97.0    821           1         0\n",
       "7796  2023                98.0    197           0         1\n",
       "7797  2023                98.0    632           1         0\n",
       "7798  2023                99.0    352           0         1\n",
       "7799  2023                99.0   1248           1         0\n",
       "\n",
       "[7800 rows x 5 columns]"
      ]
     },
     "execution_count": 24,
     "metadata": {},
     "output_type": "execute_result"
    }
   ],
   "source": [
    "data = data.reset_index(drop=True)\n",
    "data"
   ]
  },
  {
   "cell_type": "code",
   "execution_count": 25,
   "id": "03d02a81",
   "metadata": {},
   "outputs": [],
   "source": [
    "data =data[[\"Year\",\"Single Year of Age\",\"Sex_Female\",\"Sex_Male\",\"VALUE\"]]"
   ]
  },
  {
   "cell_type": "code",
   "execution_count": 26,
   "id": "ceab6385",
   "metadata": {},
   "outputs": [
    {
     "data": {
      "text/plain": [
       "(7800, 5)"
      ]
     },
     "execution_count": 26,
     "metadata": {},
     "output_type": "execute_result"
    }
   ],
   "source": [
    "data.shape"
   ]
  },
  {
   "cell_type": "code",
   "execution_count": 27,
   "id": "2a92fe9b",
   "metadata": {},
   "outputs": [
    {
     "data": {
      "text/html": [
       "<div>\n",
       "<style scoped>\n",
       "    .dataframe tbody tr th:only-of-type {\n",
       "        vertical-align: middle;\n",
       "    }\n",
       "\n",
       "    .dataframe tbody tr th {\n",
       "        vertical-align: top;\n",
       "    }\n",
       "\n",
       "    .dataframe thead th {\n",
       "        text-align: right;\n",
       "    }\n",
       "</style>\n",
       "<table border=\"1\" class=\"dataframe\">\n",
       "  <thead>\n",
       "    <tr style=\"text-align: right;\">\n",
       "      <th></th>\n",
       "      <th>Year</th>\n",
       "      <th>Single Year of Age</th>\n",
       "      <th>Sex_Female</th>\n",
       "      <th>Sex_Male</th>\n",
       "      <th>VALUE</th>\n",
       "    </tr>\n",
       "  </thead>\n",
       "  <tbody>\n",
       "    <tr>\n",
       "      <th>count</th>\n",
       "      <td>7800.000000</td>\n",
       "      <td>7800.000000</td>\n",
       "      <td>7800.000000</td>\n",
       "      <td>7800.000000</td>\n",
       "      <td>7800.000000</td>\n",
       "    </tr>\n",
       "    <tr>\n",
       "      <th>mean</th>\n",
       "      <td>1996.410256</td>\n",
       "      <td>49.505000</td>\n",
       "      <td>0.500000</td>\n",
       "      <td>0.500000</td>\n",
       "      <td>20272.447821</td>\n",
       "    </tr>\n",
       "    <tr>\n",
       "      <th>std</th>\n",
       "      <td>24.463698</td>\n",
       "      <td>28.859388</td>\n",
       "      <td>0.500032</td>\n",
       "      <td>0.500032</td>\n",
       "      <td>11910.053644</td>\n",
       "    </tr>\n",
       "    <tr>\n",
       "      <th>min</th>\n",
       "      <td>1926.000000</td>\n",
       "      <td>0.500000</td>\n",
       "      <td>0.000000</td>\n",
       "      <td>0.000000</td>\n",
       "      <td>6.000000</td>\n",
       "    </tr>\n",
       "    <tr>\n",
       "      <th>25%</th>\n",
       "      <td>1986.000000</td>\n",
       "      <td>24.750000</td>\n",
       "      <td>0.000000</td>\n",
       "      <td>0.000000</td>\n",
       "      <td>10576.750000</td>\n",
       "    </tr>\n",
       "    <tr>\n",
       "      <th>50%</th>\n",
       "      <td>2004.000000</td>\n",
       "      <td>49.500000</td>\n",
       "      <td>0.500000</td>\n",
       "      <td>0.500000</td>\n",
       "      <td>22863.000000</td>\n",
       "    </tr>\n",
       "    <tr>\n",
       "      <th>75%</th>\n",
       "      <td>2014.000000</td>\n",
       "      <td>74.250000</td>\n",
       "      <td>1.000000</td>\n",
       "      <td>1.000000</td>\n",
       "      <td>30243.000000</td>\n",
       "    </tr>\n",
       "    <tr>\n",
       "      <th>max</th>\n",
       "      <td>2023.000000</td>\n",
       "      <td>99.000000</td>\n",
       "      <td>1.000000</td>\n",
       "      <td>1.000000</td>\n",
       "      <td>44954.000000</td>\n",
       "    </tr>\n",
       "  </tbody>\n",
       "</table>\n",
       "</div>"
      ],
      "text/plain": [
       "              Year  Single Year of Age   Sex_Female     Sex_Male         VALUE\n",
       "count  7800.000000         7800.000000  7800.000000  7800.000000   7800.000000\n",
       "mean   1996.410256           49.505000     0.500000     0.500000  20272.447821\n",
       "std      24.463698           28.859388     0.500032     0.500032  11910.053644\n",
       "min    1926.000000            0.500000     0.000000     0.000000      6.000000\n",
       "25%    1986.000000           24.750000     0.000000     0.000000  10576.750000\n",
       "50%    2004.000000           49.500000     0.500000     0.500000  22863.000000\n",
       "75%    2014.000000           74.250000     1.000000     1.000000  30243.000000\n",
       "max    2023.000000           99.000000     1.000000     1.000000  44954.000000"
      ]
     },
     "execution_count": 27,
     "metadata": {},
     "output_type": "execute_result"
    }
   ],
   "source": [
    "data.describe()"
   ]
  },
  {
   "cell_type": "code",
   "execution_count": 28,
   "id": "f53c3689",
   "metadata": {},
   "outputs": [
    {
     "data": {
      "text/plain": [
       "<AxesSubplot:xlabel='Year'>"
      ]
     },
     "execution_count": 28,
     "metadata": {},
     "output_type": "execute_result"
    },
    {
     "data": {
      "image/png": "[encoded data removed]",
      "text/plain": [
       "<Figure size 640x480 with 1 Axes>"
      ]
     },
     "metadata": {},
     "output_type": "display_data"
    }
   ],
   "source": [
    "sns.boxplot(x = data[\"Year\"])"
   ]
  },
  {
   "cell_type": "code",
   "execution_count": 29,
   "id": "fdfbea07",
   "metadata": {},
   "outputs": [
    {
     "data": {
      "text/plain": [
       "{'whiskers': [<matplotlib.lines.Line2D at 0x1ef82f2efd0>,\n",
       "  <matplotlib.lines.Line2D at 0x1ef82d512e0>],\n",
       " 'caps': [<matplotlib.lines.Line2D at 0x1ef82d515b0>,\n",
       "  <matplotlib.lines.Line2D at 0x1ef82d51880>],\n",
       " 'boxes': [<matplotlib.lines.Line2D at 0x1ef82f2eca0>],\n",
       " 'medians': [<matplotlib.lines.Line2D at 0x1ef82d51b50>],\n",
       " 'fliers': [<matplotlib.lines.Line2D at 0x1ef82d51e20>],\n",
       " 'means': []}"
      ]
     },
     "execution_count": 29,
     "metadata": {},
     "output_type": "execute_result"
    },
    {
     "data": {
      "image/png": "[encoded data removed]",
      "text/plain": [
       "<Figure size 640x480 with 1 Axes>"
      ]
     },
     "metadata": {},
     "output_type": "display_data"
    }
   ],
   "source": [
    "plt.boxplot(x = data[\"Single Year of Age\"])"
   ]
  },
  {
   "cell_type": "code",
   "execution_count": 30,
   "id": "8e30d175",
   "metadata": {},
   "outputs": [
    {
     "data": {
      "text/plain": [
       "<AxesSubplot:xlabel='VALUE'>"
      ]
     },
     "execution_count": 30,
     "metadata": {},
     "output_type": "execute_result"
    },
    {
     "data": {
      "image/png": "[encoded data removed]",
      "text/plain": [
       "<Figure size 640x480 with 1 Axes>"
      ]
     },
     "metadata": {},
     "output_type": "display_data"
    }
   ],
   "source": [
    "sns.boxplot(x = data[\"VALUE\"])"
   ]
  },
  {
   "cell_type": "code",
   "execution_count": 31,
   "id": "f1b06bd8",
   "metadata": {
    "scrolled": true
   },
   "outputs": [
    {
     "data": {
      "text/plain": [
       "1232579"
      ]
     },
     "execution_count": 31,
     "metadata": {},
     "output_type": "execute_result"
    }
   ],
   "source": [
    "data_male_birth = data_birth[data_birth[\"Sex\"] == \"Male\"]\n",
    "data_male_birth = data_male_birth[\"VALUE\"].sum()\n",
    "data_male_birth"
   ]
  },
  {
   "cell_type": "code",
   "execution_count": 32,
   "id": "837715a2",
   "metadata": {},
   "outputs": [
    {
     "data": {
      "text/plain": [
       "1176220"
      ]
     },
     "execution_count": 32,
     "metadata": {},
     "output_type": "execute_result"
    }
   ],
   "source": [
    "data_female_birth = data_birth[data_birth[\"Sex\"] == \"Female\"]\n",
    "data_female_birth = data_female_birth[\"VALUE\"].sum()\n",
    "data_female_birth"
   ]
  },
  {
   "cell_type": "code",
   "execution_count": 33,
   "id": "7441541d",
   "metadata": {},
   "outputs": [
    {
     "name": "stdout",
     "output_type": "stream",
     "text": [
      "p value of Male: 9.69875184393043e-289\n",
      "Reject the null hypothesis: The distribution of male births differs significantly from the expected binomial distribution.\n"
     ]
    },
    {
     "name": "stderr",
     "output_type": "stream",
     "text": [
      "C:\\Users\\luozh\\anaconda3\\lib\\site-packages\\scipy\\stats\\_discrete_distns.py:78: RuntimeWarning: divide by zero encountered in _binom_pdf\n",
      "  return _boost._binom_pdf(x, n, p)\n"
     ]
    }
   ],
   "source": [
    "# Import necessary libraries\n",
    "from scipy.stats import binom_test\n",
    "\n",
    "# Define the observed male and female birth counts\n",
    "observed_male = data_male_birth\n",
    "observed_female = data_female_birth\n",
    "\n",
    "# Calculate the total number of births\n",
    "total_birth = observed_male + observed_female\n",
    "\n",
    "# Define the probability of a male birth\n",
    "p = 0.5\n",
    "\n",
    "# Perform a two-sided binomial test to compare observed male births to the expected binomial distribution\n",
    "p_value_male = binom_test(observed_male, n=total_birth, p=p, alternative='two-sided') \n",
    "\n",
    "# Print the p-value for male births\n",
    "print(\"p value of Male:\", p_value_male)\n",
    "\n",
    "# Set the significance level (alpha)\n",
    "alpha = 0.05  \n",
    "\n",
    "# Check if the p-value is less than alpha to make a hypothesis decision\n",
    "if p_value_male < alpha:\n",
    "    print(\"Reject the null hypothesis: The distribution of male births differs significantly from the expected binomial distribution.\")\n",
    "else:\n",
    "    print(\"Not rejecting the null hypothesis: The distribution of male births does not differ significantly from the expected binomial distribution.\")\n"
   ]
  },
  {
   "cell_type": "code",
   "execution_count": 34,
   "id": "063dd8b0",
   "metadata": {},
   "outputs": [
    {
     "data": {
      "text/html": [
       "<div>\n",
       "<style scoped>\n",
       "    .dataframe tbody tr th:only-of-type {\n",
       "        vertical-align: middle;\n",
       "    }\n",
       "\n",
       "    .dataframe tbody tr th {\n",
       "        vertical-align: top;\n",
       "    }\n",
       "\n",
       "    .dataframe thead th {\n",
       "        text-align: right;\n",
       "    }\n",
       "</style>\n",
       "<table border=\"1\" class=\"dataframe\">\n",
       "  <thead>\n",
       "    <tr style=\"text-align: right;\">\n",
       "      <th></th>\n",
       "      <th>Year</th>\n",
       "      <th>Single Year of Age</th>\n",
       "      <th>Sex</th>\n",
       "      <th>VALUE</th>\n",
       "    </tr>\n",
       "  </thead>\n",
       "  <tbody>\n",
       "    <tr>\n",
       "      <th>3</th>\n",
       "      <td>1926</td>\n",
       "      <td>0.5</td>\n",
       "      <td>Both sexes</td>\n",
       "      <td>55391</td>\n",
       "    </tr>\n",
       "    <tr>\n",
       "      <th>4</th>\n",
       "      <td>1926</td>\n",
       "      <td>0.5</td>\n",
       "      <td>Male</td>\n",
       "      <td>28084</td>\n",
       "    </tr>\n",
       "    <tr>\n",
       "      <th>5</th>\n",
       "      <td>1926</td>\n",
       "      <td>0.5</td>\n",
       "      <td>Female</td>\n",
       "      <td>27307</td>\n",
       "    </tr>\n",
       "    <tr>\n",
       "      <th>306</th>\n",
       "      <td>1936</td>\n",
       "      <td>0.5</td>\n",
       "      <td>Both sexes</td>\n",
       "      <td>53606</td>\n",
       "    </tr>\n",
       "    <tr>\n",
       "      <th>307</th>\n",
       "      <td>1936</td>\n",
       "      <td>0.5</td>\n",
       "      <td>Male</td>\n",
       "      <td>27152</td>\n",
       "    </tr>\n",
       "    <tr>\n",
       "      <th>...</th>\n",
       "      <td>...</td>\n",
       "      <td>...</td>\n",
       "      <td>...</td>\n",
       "      <td>...</td>\n",
       "    </tr>\n",
       "    <tr>\n",
       "      <th>11215</th>\n",
       "      <td>2022</td>\n",
       "      <td>0.5</td>\n",
       "      <td>Male</td>\n",
       "      <td>29546</td>\n",
       "    </tr>\n",
       "    <tr>\n",
       "      <th>11216</th>\n",
       "      <td>2022</td>\n",
       "      <td>0.5</td>\n",
       "      <td>Female</td>\n",
       "      <td>28138</td>\n",
       "    </tr>\n",
       "    <tr>\n",
       "      <th>11517</th>\n",
       "      <td>2023</td>\n",
       "      <td>0.5</td>\n",
       "      <td>Both sexes</td>\n",
       "      <td>55716</td>\n",
       "    </tr>\n",
       "    <tr>\n",
       "      <th>11518</th>\n",
       "      <td>2023</td>\n",
       "      <td>0.5</td>\n",
       "      <td>Male</td>\n",
       "      <td>27418</td>\n",
       "    </tr>\n",
       "    <tr>\n",
       "      <th>11519</th>\n",
       "      <td>2023</td>\n",
       "      <td>0.5</td>\n",
       "      <td>Female</td>\n",
       "      <td>28298</td>\n",
       "    </tr>\n",
       "  </tbody>\n",
       "</table>\n",
       "<p>117 rows × 4 columns</p>\n",
       "</div>"
      ],
      "text/plain": [
       "       Year  Single Year of Age         Sex  VALUE\n",
       "3      1926                 0.5  Both sexes  55391\n",
       "4      1926                 0.5        Male  28084\n",
       "5      1926                 0.5      Female  27307\n",
       "306    1936                 0.5  Both sexes  53606\n",
       "307    1936                 0.5        Male  27152\n",
       "...     ...                 ...         ...    ...\n",
       "11215  2022                 0.5        Male  29546\n",
       "11216  2022                 0.5      Female  28138\n",
       "11517  2023                 0.5  Both sexes  55716\n",
       "11518  2023                 0.5        Male  27418\n",
       "11519  2023                 0.5      Female  28298\n",
       "\n",
       "[117 rows x 4 columns]"
      ]
     },
     "execution_count": 34,
     "metadata": {},
     "output_type": "execute_result"
    }
   ],
   "source": [
    "data_birth"
   ]
  },
  {
   "cell_type": "code",
   "execution_count": 35,
   "id": "20939b6e",
   "metadata": {},
   "outputs": [
    {
     "data": {
      "text/html": [
       "<div>\n",
       "<style scoped>\n",
       "    .dataframe tbody tr th:only-of-type {\n",
       "        vertical-align: middle;\n",
       "    }\n",
       "\n",
       "    .dataframe tbody tr th {\n",
       "        vertical-align: top;\n",
       "    }\n",
       "\n",
       "    .dataframe thead th {\n",
       "        text-align: right;\n",
       "    }\n",
       "</style>\n",
       "<table border=\"1\" class=\"dataframe\">\n",
       "  <thead>\n",
       "    <tr style=\"text-align: right;\">\n",
       "      <th></th>\n",
       "      <th>Year</th>\n",
       "      <th>Single Year of Age</th>\n",
       "      <th>Sex</th>\n",
       "      <th>VALUE</th>\n",
       "    </tr>\n",
       "  </thead>\n",
       "  <tbody>\n",
       "    <tr>\n",
       "      <th>4</th>\n",
       "      <td>1926</td>\n",
       "      <td>0.5</td>\n",
       "      <td>Male</td>\n",
       "      <td>28084</td>\n",
       "    </tr>\n",
       "    <tr>\n",
       "      <th>307</th>\n",
       "      <td>1936</td>\n",
       "      <td>0.5</td>\n",
       "      <td>Male</td>\n",
       "      <td>27152</td>\n",
       "    </tr>\n",
       "    <tr>\n",
       "      <th>610</th>\n",
       "      <td>1946</td>\n",
       "      <td>0.5</td>\n",
       "      <td>Male</td>\n",
       "      <td>33798</td>\n",
       "    </tr>\n",
       "    <tr>\n",
       "      <th>913</th>\n",
       "      <td>1951</td>\n",
       "      <td>0.5</td>\n",
       "      <td>Male</td>\n",
       "      <td>32630</td>\n",
       "    </tr>\n",
       "    <tr>\n",
       "      <th>1216</th>\n",
       "      <td>1961</td>\n",
       "      <td>0.5</td>\n",
       "      <td>Male</td>\n",
       "      <td>32137</td>\n",
       "    </tr>\n",
       "    <tr>\n",
       "      <th>1519</th>\n",
       "      <td>1966</td>\n",
       "      <td>0.5</td>\n",
       "      <td>Male</td>\n",
       "      <td>32514</td>\n",
       "    </tr>\n",
       "    <tr>\n",
       "      <th>1822</th>\n",
       "      <td>1971</td>\n",
       "      <td>0.5</td>\n",
       "      <td>Male</td>\n",
       "      <td>33276</td>\n",
       "    </tr>\n",
       "    <tr>\n",
       "      <th>2125</th>\n",
       "      <td>1979</td>\n",
       "      <td>0.5</td>\n",
       "      <td>Male</td>\n",
       "      <td>36171</td>\n",
       "    </tr>\n",
       "    <tr>\n",
       "      <th>2428</th>\n",
       "      <td>1981</td>\n",
       "      <td>0.5</td>\n",
       "      <td>Male</td>\n",
       "      <td>37717</td>\n",
       "    </tr>\n",
       "    <tr>\n",
       "      <th>2731</th>\n",
       "      <td>1986</td>\n",
       "      <td>0.5</td>\n",
       "      <td>Male</td>\n",
       "      <td>31315</td>\n",
       "    </tr>\n",
       "    <tr>\n",
       "      <th>3034</th>\n",
       "      <td>1991</td>\n",
       "      <td>0.5</td>\n",
       "      <td>Male</td>\n",
       "      <td>27390</td>\n",
       "    </tr>\n",
       "    <tr>\n",
       "      <th>3337</th>\n",
       "      <td>1996</td>\n",
       "      <td>0.5</td>\n",
       "      <td>Male</td>\n",
       "      <td>25231</td>\n",
       "    </tr>\n",
       "    <tr>\n",
       "      <th>3640</th>\n",
       "      <td>1997</td>\n",
       "      <td>0.5</td>\n",
       "      <td>Male</td>\n",
       "      <td>26077</td>\n",
       "    </tr>\n",
       "    <tr>\n",
       "      <th>3943</th>\n",
       "      <td>1998</td>\n",
       "      <td>0.5</td>\n",
       "      <td>Male</td>\n",
       "      <td>27036</td>\n",
       "    </tr>\n",
       "    <tr>\n",
       "      <th>4246</th>\n",
       "      <td>1999</td>\n",
       "      <td>0.5</td>\n",
       "      <td>Male</td>\n",
       "      <td>27437</td>\n",
       "    </tr>\n",
       "    <tr>\n",
       "      <th>4549</th>\n",
       "      <td>2000</td>\n",
       "      <td>0.5</td>\n",
       "      <td>Male</td>\n",
       "      <td>27633</td>\n",
       "    </tr>\n",
       "    <tr>\n",
       "      <th>4852</th>\n",
       "      <td>2001</td>\n",
       "      <td>0.5</td>\n",
       "      <td>Male</td>\n",
       "      <td>28427</td>\n",
       "    </tr>\n",
       "    <tr>\n",
       "      <th>5155</th>\n",
       "      <td>2002</td>\n",
       "      <td>0.5</td>\n",
       "      <td>Male</td>\n",
       "      <td>27805</td>\n",
       "    </tr>\n",
       "    <tr>\n",
       "      <th>5458</th>\n",
       "      <td>2003</td>\n",
       "      <td>0.5</td>\n",
       "      <td>Male</td>\n",
       "      <td>31047</td>\n",
       "    </tr>\n",
       "    <tr>\n",
       "      <th>5761</th>\n",
       "      <td>2004</td>\n",
       "      <td>0.5</td>\n",
       "      <td>Male</td>\n",
       "      <td>31452</td>\n",
       "    </tr>\n",
       "    <tr>\n",
       "      <th>6064</th>\n",
       "      <td>2005</td>\n",
       "      <td>0.5</td>\n",
       "      <td>Male</td>\n",
       "      <td>31490</td>\n",
       "    </tr>\n",
       "    <tr>\n",
       "      <th>6367</th>\n",
       "      <td>2006</td>\n",
       "      <td>0.5</td>\n",
       "      <td>Male</td>\n",
       "      <td>31302</td>\n",
       "    </tr>\n",
       "    <tr>\n",
       "      <th>6670</th>\n",
       "      <td>2007</td>\n",
       "      <td>0.5</td>\n",
       "      <td>Male</td>\n",
       "      <td>34101</td>\n",
       "    </tr>\n",
       "    <tr>\n",
       "      <th>6973</th>\n",
       "      <td>2008</td>\n",
       "      <td>0.5</td>\n",
       "      <td>Male</td>\n",
       "      <td>36855</td>\n",
       "    </tr>\n",
       "    <tr>\n",
       "      <th>7276</th>\n",
       "      <td>2009</td>\n",
       "      <td>0.5</td>\n",
       "      <td>Male</td>\n",
       "      <td>37673</td>\n",
       "    </tr>\n",
       "    <tr>\n",
       "      <th>7579</th>\n",
       "      <td>2010</td>\n",
       "      <td>0.5</td>\n",
       "      <td>Male</td>\n",
       "      <td>38480</td>\n",
       "    </tr>\n",
       "    <tr>\n",
       "      <th>7882</th>\n",
       "      <td>2011</td>\n",
       "      <td>0.5</td>\n",
       "      <td>Male</td>\n",
       "      <td>36880</td>\n",
       "    </tr>\n",
       "    <tr>\n",
       "      <th>8185</th>\n",
       "      <td>2012</td>\n",
       "      <td>0.5</td>\n",
       "      <td>Male</td>\n",
       "      <td>37255</td>\n",
       "    </tr>\n",
       "    <tr>\n",
       "      <th>8488</th>\n",
       "      <td>2013</td>\n",
       "      <td>0.5</td>\n",
       "      <td>Male</td>\n",
       "      <td>35061</td>\n",
       "    </tr>\n",
       "    <tr>\n",
       "      <th>8791</th>\n",
       "      <td>2014</td>\n",
       "      <td>0.5</td>\n",
       "      <td>Male</td>\n",
       "      <td>34332</td>\n",
       "    </tr>\n",
       "    <tr>\n",
       "      <th>9094</th>\n",
       "      <td>2015</td>\n",
       "      <td>0.5</td>\n",
       "      <td>Male</td>\n",
       "      <td>32806</td>\n",
       "    </tr>\n",
       "    <tr>\n",
       "      <th>9397</th>\n",
       "      <td>2016</td>\n",
       "      <td>0.5</td>\n",
       "      <td>Male</td>\n",
       "      <td>31854</td>\n",
       "    </tr>\n",
       "    <tr>\n",
       "      <th>9700</th>\n",
       "      <td>2017</td>\n",
       "      <td>0.5</td>\n",
       "      <td>Male</td>\n",
       "      <td>32433</td>\n",
       "    </tr>\n",
       "    <tr>\n",
       "      <th>10003</th>\n",
       "      <td>2018</td>\n",
       "      <td>0.5</td>\n",
       "      <td>Male</td>\n",
       "      <td>31689</td>\n",
       "    </tr>\n",
       "    <tr>\n",
       "      <th>10306</th>\n",
       "      <td>2019</td>\n",
       "      <td>0.5</td>\n",
       "      <td>Male</td>\n",
       "      <td>30809</td>\n",
       "    </tr>\n",
       "    <tr>\n",
       "      <th>10609</th>\n",
       "      <td>2020</td>\n",
       "      <td>0.5</td>\n",
       "      <td>Male</td>\n",
       "      <td>29845</td>\n",
       "    </tr>\n",
       "    <tr>\n",
       "      <th>10912</th>\n",
       "      <td>2021</td>\n",
       "      <td>0.5</td>\n",
       "      <td>Male</td>\n",
       "      <td>28421</td>\n",
       "    </tr>\n",
       "    <tr>\n",
       "      <th>11215</th>\n",
       "      <td>2022</td>\n",
       "      <td>0.5</td>\n",
       "      <td>Male</td>\n",
       "      <td>29546</td>\n",
       "    </tr>\n",
       "    <tr>\n",
       "      <th>11518</th>\n",
       "      <td>2023</td>\n",
       "      <td>0.5</td>\n",
       "      <td>Male</td>\n",
       "      <td>27418</td>\n",
       "    </tr>\n",
       "  </tbody>\n",
       "</table>\n",
       "</div>"
      ],
      "text/plain": [
       "       Year  Single Year of Age   Sex  VALUE\n",
       "4      1926                 0.5  Male  28084\n",
       "307    1936                 0.5  Male  27152\n",
       "610    1946                 0.5  Male  33798\n",
       "913    1951                 0.5  Male  32630\n",
       "1216   1961                 0.5  Male  32137\n",
       "1519   1966                 0.5  Male  32514\n",
       "1822   1971                 0.5  Male  33276\n",
       "2125   1979                 0.5  Male  36171\n",
       "2428   1981                 0.5  Male  37717\n",
       "2731   1986                 0.5  Male  31315\n",
       "3034   1991                 0.5  Male  27390\n",
       "3337   1996                 0.5  Male  25231\n",
       "3640   1997                 0.5  Male  26077\n",
       "3943   1998                 0.5  Male  27036\n",
       "4246   1999                 0.5  Male  27437\n",
       "4549   2000                 0.5  Male  27633\n",
       "4852   2001                 0.5  Male  28427\n",
       "5155   2002                 0.5  Male  27805\n",
       "5458   2003                 0.5  Male  31047\n",
       "5761   2004                 0.5  Male  31452\n",
       "6064   2005                 0.5  Male  31490\n",
       "6367   2006                 0.5  Male  31302\n",
       "6670   2007                 0.5  Male  34101\n",
       "6973   2008                 0.5  Male  36855\n",
       "7276   2009                 0.5  Male  37673\n",
       "7579   2010                 0.5  Male  38480\n",
       "7882   2011                 0.5  Male  36880\n",
       "8185   2012                 0.5  Male  37255\n",
       "8488   2013                 0.5  Male  35061\n",
       "8791   2014                 0.5  Male  34332\n",
       "9094   2015                 0.5  Male  32806\n",
       "9397   2016                 0.5  Male  31854\n",
       "9700   2017                 0.5  Male  32433\n",
       "10003  2018                 0.5  Male  31689\n",
       "10306  2019                 0.5  Male  30809\n",
       "10609  2020                 0.5  Male  29845\n",
       "10912  2021                 0.5  Male  28421\n",
       "11215  2022                 0.5  Male  29546\n",
       "11518  2023                 0.5  Male  27418"
      ]
     },
     "execution_count": 35,
     "metadata": {},
     "output_type": "execute_result"
    }
   ],
   "source": [
    "data_male_birth = data_birth[data_birth[\"Sex\"] == \"Male\"]\n",
    "data_male_birth"
   ]
  },
  {
   "cell_type": "code",
   "execution_count": 36,
   "id": "e16b43d4",
   "metadata": {},
   "outputs": [
    {
     "data": {
      "text/html": [
       "<div>\n",
       "<style scoped>\n",
       "    .dataframe tbody tr th:only-of-type {\n",
       "        vertical-align: middle;\n",
       "    }\n",
       "\n",
       "    .dataframe tbody tr th {\n",
       "        vertical-align: top;\n",
       "    }\n",
       "\n",
       "    .dataframe thead th {\n",
       "        text-align: right;\n",
       "    }\n",
       "</style>\n",
       "<table border=\"1\" class=\"dataframe\">\n",
       "  <thead>\n",
       "    <tr style=\"text-align: right;\">\n",
       "      <th></th>\n",
       "      <th>Year</th>\n",
       "      <th>VALUE</th>\n",
       "    </tr>\n",
       "  </thead>\n",
       "  <tbody>\n",
       "    <tr>\n",
       "      <th>0</th>\n",
       "      <td>2000</td>\n",
       "      <td>27633</td>\n",
       "    </tr>\n",
       "    <tr>\n",
       "      <th>1</th>\n",
       "      <td>2001</td>\n",
       "      <td>28427</td>\n",
       "    </tr>\n",
       "    <tr>\n",
       "      <th>2</th>\n",
       "      <td>2002</td>\n",
       "      <td>27805</td>\n",
       "    </tr>\n",
       "    <tr>\n",
       "      <th>3</th>\n",
       "      <td>2003</td>\n",
       "      <td>31047</td>\n",
       "    </tr>\n",
       "    <tr>\n",
       "      <th>4</th>\n",
       "      <td>2004</td>\n",
       "      <td>31452</td>\n",
       "    </tr>\n",
       "    <tr>\n",
       "      <th>5</th>\n",
       "      <td>2005</td>\n",
       "      <td>31490</td>\n",
       "    </tr>\n",
       "    <tr>\n",
       "      <th>6</th>\n",
       "      <td>2006</td>\n",
       "      <td>31302</td>\n",
       "    </tr>\n",
       "    <tr>\n",
       "      <th>7</th>\n",
       "      <td>2007</td>\n",
       "      <td>34101</td>\n",
       "    </tr>\n",
       "    <tr>\n",
       "      <th>8</th>\n",
       "      <td>2008</td>\n",
       "      <td>36855</td>\n",
       "    </tr>\n",
       "    <tr>\n",
       "      <th>9</th>\n",
       "      <td>2009</td>\n",
       "      <td>37673</td>\n",
       "    </tr>\n",
       "    <tr>\n",
       "      <th>10</th>\n",
       "      <td>2010</td>\n",
       "      <td>38480</td>\n",
       "    </tr>\n",
       "    <tr>\n",
       "      <th>11</th>\n",
       "      <td>2011</td>\n",
       "      <td>36880</td>\n",
       "    </tr>\n",
       "    <tr>\n",
       "      <th>12</th>\n",
       "      <td>2012</td>\n",
       "      <td>37255</td>\n",
       "    </tr>\n",
       "    <tr>\n",
       "      <th>13</th>\n",
       "      <td>2013</td>\n",
       "      <td>35061</td>\n",
       "    </tr>\n",
       "    <tr>\n",
       "      <th>14</th>\n",
       "      <td>2014</td>\n",
       "      <td>34332</td>\n",
       "    </tr>\n",
       "    <tr>\n",
       "      <th>15</th>\n",
       "      <td>2015</td>\n",
       "      <td>32806</td>\n",
       "    </tr>\n",
       "    <tr>\n",
       "      <th>16</th>\n",
       "      <td>2016</td>\n",
       "      <td>31854</td>\n",
       "    </tr>\n",
       "    <tr>\n",
       "      <th>17</th>\n",
       "      <td>2017</td>\n",
       "      <td>32433</td>\n",
       "    </tr>\n",
       "    <tr>\n",
       "      <th>18</th>\n",
       "      <td>2018</td>\n",
       "      <td>31689</td>\n",
       "    </tr>\n",
       "    <tr>\n",
       "      <th>19</th>\n",
       "      <td>2019</td>\n",
       "      <td>30809</td>\n",
       "    </tr>\n",
       "    <tr>\n",
       "      <th>20</th>\n",
       "      <td>2020</td>\n",
       "      <td>29845</td>\n",
       "    </tr>\n",
       "    <tr>\n",
       "      <th>21</th>\n",
       "      <td>2021</td>\n",
       "      <td>28421</td>\n",
       "    </tr>\n",
       "    <tr>\n",
       "      <th>22</th>\n",
       "      <td>2022</td>\n",
       "      <td>29546</td>\n",
       "    </tr>\n",
       "    <tr>\n",
       "      <th>23</th>\n",
       "      <td>2023</td>\n",
       "      <td>27418</td>\n",
       "    </tr>\n",
       "  </tbody>\n",
       "</table>\n",
       "</div>"
      ],
      "text/plain": [
       "    Year  VALUE\n",
       "0   2000  27633\n",
       "1   2001  28427\n",
       "2   2002  27805\n",
       "3   2003  31047\n",
       "4   2004  31452\n",
       "5   2005  31490\n",
       "6   2006  31302\n",
       "7   2007  34101\n",
       "8   2008  36855\n",
       "9   2009  37673\n",
       "10  2010  38480\n",
       "11  2011  36880\n",
       "12  2012  37255\n",
       "13  2013  35061\n",
       "14  2014  34332\n",
       "15  2015  32806\n",
       "16  2016  31854\n",
       "17  2017  32433\n",
       "18  2018  31689\n",
       "19  2019  30809\n",
       "20  2020  29845\n",
       "21  2021  28421\n",
       "22  2022  29546\n",
       "23  2023  27418"
      ]
     },
     "execution_count": 36,
     "metadata": {},
     "output_type": "execute_result"
    }
   ],
   "source": [
    "data_male_birth = data_male_birth.tail(24)\n",
    "data_male_birth = data_male_birth[[\"Year\",\"VALUE\"]]\n",
    "data_male_birth = data_male_birth.reset_index(drop=True)\n",
    "data_male_birth"
   ]
  },
  {
   "cell_type": "code",
   "execution_count": 37,
   "id": "8331f749",
   "metadata": {},
   "outputs": [
    {
     "name": "stdout",
     "output_type": "stream",
     "text": [
      "Chi2 Stat: 8204.58682647099\n",
      "P Value: 0.0\n",
      "Reject the null hypothesis, the data does not follow a Poisson distribution \n"
     ]
    }
   ],
   "source": [
    "# Import necessary libraries\n",
    "from scipy.stats import poisson, chisquare\n",
    "\n",
    "# Extract the 'Year' and 'VALUE' columns from the 'data_male_birth' dataset\n",
    "years = data_male_birth[\"Year\"]\n",
    "boys_count = data_male_birth[\"VALUE\"]\n",
    "\n",
    "# Calculate the mean of 'boys_count'\n",
    "mean_boys = np.mean(boys_count)\n",
    "\n",
    "# Create a list of expected counts with the same length as 'boys_count'\n",
    "expected_counts = [mean_boys] * len(boys_count)\n",
    "\n",
    "# Perform the chi-square test for goodness of fit\n",
    "chi2_stat, p_val = chisquare(boys_count, expected_counts)\n",
    "\n",
    "# Print the chi-square statistic and p-value\n",
    "print(f\"Chi2 Stat: {chi2_stat}\")\n",
    "print(f\"P Value: {p_val}\")\n",
    "\n",
    "# Set the significance level (alpha)\n",
    "alpha = 0.05 \n",
    "\n",
    "# Check if the p-value is less than alpha to make a hypothesis decision\n",
    "if p_val < alpha:\n",
    "    print(\"Reject the null hypothesis, the data does not follow a Poisson distribution \")\n",
    "else:\n",
    "    print(\"Fail to reject the null hypothesis, the data follows a Poisson distribution.\")\n"
   ]
  },
  {
   "cell_type": "code",
   "execution_count": 38,
   "id": "0206a1da",
   "metadata": {},
   "outputs": [
    {
     "data": {
      "image/png": "[encoded data removed]",
      "text/plain": [
       "<Figure size 640x480 with 1 Axes>"
      ]
     },
     "metadata": {},
     "output_type": "display_data"
    }
   ],
   "source": [
    "import scipy.stats as stats\n",
    "stats.probplot(data_male_birth[\"VALUE\"], dist=\"norm\", plot=plt)\n",
    "plt.title(\"QQ Plot\")\n",
    "plt.show()"
   ]
  },
  {
   "cell_type": "code",
   "execution_count": 39,
   "id": "91b6e7f3",
   "metadata": {},
   "outputs": [
    {
     "name": "stdout",
     "output_type": "stream",
     "text": [
      "Shapiro-Wilk Test p-value: 0.15492160618305206\n"
     ]
    }
   ],
   "source": [
    "shapiro_test_statistic, shapiro_p_value = stats.shapiro(data_male_birth[\"VALUE\"])\n",
    "print(\"Shapiro-Wilk Test p-value:\", shapiro_p_value)\n",
    "alpha = 0.05\n",
    "\n"
   ]
  },
  {
   "cell_type": "code",
   "execution_count": 40,
   "id": "e8c814e3",
   "metadata": {},
   "outputs": [
    {
     "name": "stdout",
     "output_type": "stream",
     "text": [
      "Fail to reject the null hypothesis, the data follows a Normal distribution.\n"
     ]
    }
   ],
   "source": [
    "if shapiro_p_value < alpha:\n",
    "    \n",
    "    print(\"Reject the null hypothesis, the data does not follow a Normal distribution \")\n",
    "    \n",
    "else:\n",
    "    \n",
    "    print(\"Fail to reject the null hypothesis, the data follows a Normal distribution.\")\n"
   ]
  },
  {
   "cell_type": "code",
   "execution_count": 41,
   "id": "f21171fd",
   "metadata": {},
   "outputs": [
    {
     "data": {
      "text/html": [
       "<div>\n",
       "<style scoped>\n",
       "    .dataframe tbody tr th:only-of-type {\n",
       "        vertical-align: middle;\n",
       "    }\n",
       "\n",
       "    .dataframe tbody tr th {\n",
       "        vertical-align: top;\n",
       "    }\n",
       "\n",
       "    .dataframe thead th {\n",
       "        text-align: right;\n",
       "    }\n",
       "</style>\n",
       "<table border=\"1\" class=\"dataframe\">\n",
       "  <thead>\n",
       "    <tr style=\"text-align: right;\">\n",
       "      <th></th>\n",
       "      <th>Year</th>\n",
       "      <th>Single Year of Age</th>\n",
       "      <th>Sex_Female</th>\n",
       "      <th>Sex_Male</th>\n",
       "      <th>VALUE</th>\n",
       "    </tr>\n",
       "  </thead>\n",
       "  <tbody>\n",
       "    <tr>\n",
       "      <th>0</th>\n",
       "      <td>1926</td>\n",
       "      <td>0.5</td>\n",
       "      <td>0</td>\n",
       "      <td>1</td>\n",
       "      <td>28084</td>\n",
       "    </tr>\n",
       "    <tr>\n",
       "      <th>1</th>\n",
       "      <td>1926</td>\n",
       "      <td>0.5</td>\n",
       "      <td>1</td>\n",
       "      <td>0</td>\n",
       "      <td>27307</td>\n",
       "    </tr>\n",
       "    <tr>\n",
       "      <th>2</th>\n",
       "      <td>1926</td>\n",
       "      <td>1.0</td>\n",
       "      <td>0</td>\n",
       "      <td>1</td>\n",
       "      <td>28374</td>\n",
       "    </tr>\n",
       "    <tr>\n",
       "      <th>3</th>\n",
       "      <td>1926</td>\n",
       "      <td>1.0</td>\n",
       "      <td>1</td>\n",
       "      <td>0</td>\n",
       "      <td>27502</td>\n",
       "    </tr>\n",
       "    <tr>\n",
       "      <th>4</th>\n",
       "      <td>1926</td>\n",
       "      <td>2.0</td>\n",
       "      <td>0</td>\n",
       "      <td>1</td>\n",
       "      <td>29728</td>\n",
       "    </tr>\n",
       "    <tr>\n",
       "      <th>...</th>\n",
       "      <td>...</td>\n",
       "      <td>...</td>\n",
       "      <td>...</td>\n",
       "      <td>...</td>\n",
       "      <td>...</td>\n",
       "    </tr>\n",
       "    <tr>\n",
       "      <th>7795</th>\n",
       "      <td>2023</td>\n",
       "      <td>97.0</td>\n",
       "      <td>1</td>\n",
       "      <td>0</td>\n",
       "      <td>821</td>\n",
       "    </tr>\n",
       "    <tr>\n",
       "      <th>7796</th>\n",
       "      <td>2023</td>\n",
       "      <td>98.0</td>\n",
       "      <td>0</td>\n",
       "      <td>1</td>\n",
       "      <td>197</td>\n",
       "    </tr>\n",
       "    <tr>\n",
       "      <th>7797</th>\n",
       "      <td>2023</td>\n",
       "      <td>98.0</td>\n",
       "      <td>1</td>\n",
       "      <td>0</td>\n",
       "      <td>632</td>\n",
       "    </tr>\n",
       "    <tr>\n",
       "      <th>7798</th>\n",
       "      <td>2023</td>\n",
       "      <td>99.0</td>\n",
       "      <td>0</td>\n",
       "      <td>1</td>\n",
       "      <td>352</td>\n",
       "    </tr>\n",
       "    <tr>\n",
       "      <th>7799</th>\n",
       "      <td>2023</td>\n",
       "      <td>99.0</td>\n",
       "      <td>1</td>\n",
       "      <td>0</td>\n",
       "      <td>1248</td>\n",
       "    </tr>\n",
       "  </tbody>\n",
       "</table>\n",
       "<p>7800 rows × 5 columns</p>\n",
       "</div>"
      ],
      "text/plain": [
       "      Year  Single Year of Age  Sex_Female  Sex_Male  VALUE\n",
       "0     1926                 0.5           0         1  28084\n",
       "1     1926                 0.5           1         0  27307\n",
       "2     1926                 1.0           0         1  28374\n",
       "3     1926                 1.0           1         0  27502\n",
       "4     1926                 2.0           0         1  29728\n",
       "...    ...                 ...         ...       ...    ...\n",
       "7795  2023                97.0           1         0    821\n",
       "7796  2023                98.0           0         1    197\n",
       "7797  2023                98.0           1         0    632\n",
       "7798  2023                99.0           0         1    352\n",
       "7799  2023                99.0           1         0   1248\n",
       "\n",
       "[7800 rows x 5 columns]"
      ]
     },
     "execution_count": 41,
     "metadata": {},
     "output_type": "execute_result"
    }
   ],
   "source": [
    "data"
   ]
  },
  {
   "cell_type": "code",
   "execution_count": 42,
   "id": "b943a777",
   "metadata": {},
   "outputs": [],
   "source": [
    "age_group= data.groupby(\"Single Year of Age\")[\"VALUE\"].sum()"
   ]
  },
  {
   "cell_type": "code",
   "execution_count": 43,
   "id": "74f66460",
   "metadata": {},
   "outputs": [
    {
     "data": {
      "text/plain": [
       "pandas.core.series.Series"
      ]
     },
     "execution_count": 43,
     "metadata": {},
     "output_type": "execute_result"
    }
   ],
   "source": [
    "type(age_group)"
   ]
  },
  {
   "cell_type": "code",
   "execution_count": 44,
   "id": "ab3b6a36",
   "metadata": {},
   "outputs": [],
   "source": [
    "age_group_df = age_group.reset_index()"
   ]
  },
  {
   "cell_type": "code",
   "execution_count": 45,
   "id": "9fcc3562",
   "metadata": {},
   "outputs": [
    {
     "data": {
      "text/html": [
       "<div>\n",
       "<style scoped>\n",
       "    .dataframe tbody tr th:only-of-type {\n",
       "        vertical-align: middle;\n",
       "    }\n",
       "\n",
       "    .dataframe tbody tr th {\n",
       "        vertical-align: top;\n",
       "    }\n",
       "\n",
       "    .dataframe thead th {\n",
       "        text-align: right;\n",
       "    }\n",
       "</style>\n",
       "<table border=\"1\" class=\"dataframe\">\n",
       "  <thead>\n",
       "    <tr style=\"text-align: right;\">\n",
       "      <th></th>\n",
       "      <th>Single Year of Age</th>\n",
       "      <th>VALUE</th>\n",
       "    </tr>\n",
       "  </thead>\n",
       "  <tbody>\n",
       "    <tr>\n",
       "      <th>0</th>\n",
       "      <td>0.5</td>\n",
       "      <td>2408799</td>\n",
       "    </tr>\n",
       "    <tr>\n",
       "      <th>1</th>\n",
       "      <td>1.0</td>\n",
       "      <td>2386266</td>\n",
       "    </tr>\n",
       "    <tr>\n",
       "      <th>2</th>\n",
       "      <td>2.0</td>\n",
       "      <td>2378626</td>\n",
       "    </tr>\n",
       "    <tr>\n",
       "      <th>3</th>\n",
       "      <td>3.0</td>\n",
       "      <td>2386960</td>\n",
       "    </tr>\n",
       "    <tr>\n",
       "      <th>4</th>\n",
       "      <td>4.0</td>\n",
       "      <td>2392144</td>\n",
       "    </tr>\n",
       "    <tr>\n",
       "      <th>...</th>\n",
       "      <td>...</td>\n",
       "      <td>...</td>\n",
       "    </tr>\n",
       "    <tr>\n",
       "      <th>95</th>\n",
       "      <td>95.0</td>\n",
       "      <td>34382</td>\n",
       "    </tr>\n",
       "    <tr>\n",
       "      <th>96</th>\n",
       "      <td>96.0</td>\n",
       "      <td>23900</td>\n",
       "    </tr>\n",
       "    <tr>\n",
       "      <th>97</th>\n",
       "      <td>97.0</td>\n",
       "      <td>17056</td>\n",
       "    </tr>\n",
       "    <tr>\n",
       "      <th>98</th>\n",
       "      <td>98.0</td>\n",
       "      <td>11787</td>\n",
       "    </tr>\n",
       "    <tr>\n",
       "      <th>99</th>\n",
       "      <td>99.0</td>\n",
       "      <td>21034</td>\n",
       "    </tr>\n",
       "  </tbody>\n",
       "</table>\n",
       "<p>100 rows × 2 columns</p>\n",
       "</div>"
      ],
      "text/plain": [
       "    Single Year of Age    VALUE\n",
       "0                  0.5  2408799\n",
       "1                  1.0  2386266\n",
       "2                  2.0  2378626\n",
       "3                  3.0  2386960\n",
       "4                  4.0  2392144\n",
       "..                 ...      ...\n",
       "95                95.0    34382\n",
       "96                96.0    23900\n",
       "97                97.0    17056\n",
       "98                98.0    11787\n",
       "99                99.0    21034\n",
       "\n",
       "[100 rows x 2 columns]"
      ]
     },
     "execution_count": 45,
     "metadata": {},
     "output_type": "execute_result"
    }
   ],
   "source": [
    "age_group_df"
   ]
  },
  {
   "cell_type": "code",
   "execution_count": 46,
   "id": "6af14ad3",
   "metadata": {},
   "outputs": [],
   "source": [
    "bins = range(0, 110, 10)\n",
    "labels = [f\"{i}-{i+9}\" for i in range(0, 100, 10)]\n",
    "age_group_df['Single Year of Age'] = pd.cut(age_group_df['Single Year of Age'], bins=bins, labels=labels, right=False)"
   ]
  },
  {
   "cell_type": "code",
   "execution_count": 47,
   "id": "798da3cd",
   "metadata": {},
   "outputs": [],
   "source": [
    "grouped_population = age_group_df.groupby('Single Year of Age')['VALUE'].sum()"
   ]
  },
  {
   "cell_type": "code",
   "execution_count": 48,
   "id": "5b0e5ec1",
   "metadata": {},
   "outputs": [
    {
     "data": {
      "text/plain": [
       "Single Year of Age\n",
       "0-9      24043414\n",
       "10-19    23896919\n",
       "20-29    22560465\n",
       "30-39    23140943\n",
       "40-49    21024520\n",
       "50-59    17345438\n",
       "60-69    13241821\n",
       "70-79     8698341\n",
       "80-89     3623717\n",
       "90-99      549515\n",
       "Name: VALUE, dtype: int64"
      ]
     },
     "execution_count": 48,
     "metadata": {},
     "output_type": "execute_result"
    }
   ],
   "source": [
    "grouped_population"
   ]
  },
  {
   "cell_type": "code",
   "execution_count": 49,
   "id": "3cf3ca45",
   "metadata": {},
   "outputs": [],
   "source": [
    "grouped_population =grouped_population.reset_index()"
   ]
  },
  {
   "cell_type": "code",
   "execution_count": 50,
   "id": "b89a50aa",
   "metadata": {},
   "outputs": [
    {
     "data": {
      "image/png": "[encoded data removed]",
      "text/plain": [
       "<Figure size 1000x600 with 1 Axes>"
      ]
     },
     "metadata": {},
     "output_type": "display_data"
    }
   ],
   "source": [
    "grouped_population.plot(kind='bar', figsize=(10, 6))\n",
    "plt.title('Population by Age Group')\n",
    "plt.xlabel('Age Group')\n",
    "plt.ylabel('Population Count')\n",
    "plt.show()"
   ]
  },
  {
   "cell_type": "code",
   "execution_count": 51,
   "id": "acf13209",
   "metadata": {},
   "outputs": [],
   "source": [
    "row_index = data.index[data['Year'] == 1996]"
   ]
  },
  {
   "cell_type": "code",
   "execution_count": 52,
   "id": "c6e8604e",
   "metadata": {},
   "outputs": [
    {
     "data": {
      "text/plain": [
       "2200"
      ]
     },
     "execution_count": 52,
     "metadata": {},
     "output_type": "execute_result"
    }
   ],
   "source": [
    "row_index[0]"
   ]
  },
  {
   "cell_type": "code",
   "execution_count": 53,
   "id": "7c8be0d5",
   "metadata": {},
   "outputs": [],
   "source": [
    "data = data[2200:]"
   ]
  },
  {
   "cell_type": "code",
   "execution_count": 54,
   "id": "61b8848f",
   "metadata": {},
   "outputs": [],
   "source": [
    "data= data.reset_index(drop=True)"
   ]
  },
  {
   "cell_type": "code",
   "execution_count": 55,
   "id": "eae53bec",
   "metadata": {},
   "outputs": [],
   "source": [
    "import pandas as pd\n",
    "import seaborn as sns\n",
    "import matplotlib.pyplot as plt"
   ]
  },
  {
   "cell_type": "code",
   "execution_count": 56,
   "id": "b7cec7ad",
   "metadata": {},
   "outputs": [],
   "source": [
    "correlation_matrix = data.corr()"
   ]
  },
  {
   "cell_type": "code",
   "execution_count": 57,
   "id": "dfd9984a",
   "metadata": {},
   "outputs": [
    {
     "data": {
      "text/html": [
       "<div>\n",
       "<style scoped>\n",
       "    .dataframe tbody tr th:only-of-type {\n",
       "        vertical-align: middle;\n",
       "    }\n",
       "\n",
       "    .dataframe tbody tr th {\n",
       "        vertical-align: top;\n",
       "    }\n",
       "\n",
       "    .dataframe thead th {\n",
       "        text-align: right;\n",
       "    }\n",
       "</style>\n",
       "<table border=\"1\" class=\"dataframe\">\n",
       "  <thead>\n",
       "    <tr style=\"text-align: right;\">\n",
       "      <th></th>\n",
       "      <th>Year</th>\n",
       "      <th>Single Year of Age</th>\n",
       "      <th>Sex_Female</th>\n",
       "      <th>Sex_Male</th>\n",
       "      <th>VALUE</th>\n",
       "    </tr>\n",
       "  </thead>\n",
       "  <tbody>\n",
       "    <tr>\n",
       "      <th>Year</th>\n",
       "      <td>1.000000e+00</td>\n",
       "      <td>1.103015e-14</td>\n",
       "      <td>7.033112e-17</td>\n",
       "      <td>2.822591e-15</td>\n",
       "      <td>0.201837</td>\n",
       "    </tr>\n",
       "    <tr>\n",
       "      <th>Single Year of Age</th>\n",
       "      <td>1.103015e-14</td>\n",
       "      <td>1.000000e+00</td>\n",
       "      <td>1.099216e-18</td>\n",
       "      <td>9.826988e-17</td>\n",
       "      <td>-0.863525</td>\n",
       "    </tr>\n",
       "    <tr>\n",
       "      <th>Sex_Female</th>\n",
       "      <td>7.033112e-17</td>\n",
       "      <td>1.099216e-18</td>\n",
       "      <td>1.000000e+00</td>\n",
       "      <td>-1.000000e+00</td>\n",
       "      <td>0.013419</td>\n",
       "    </tr>\n",
       "    <tr>\n",
       "      <th>Sex_Male</th>\n",
       "      <td>2.822591e-15</td>\n",
       "      <td>9.826988e-17</td>\n",
       "      <td>-1.000000e+00</td>\n",
       "      <td>1.000000e+00</td>\n",
       "      <td>-0.013419</td>\n",
       "    </tr>\n",
       "    <tr>\n",
       "      <th>VALUE</th>\n",
       "      <td>2.018366e-01</td>\n",
       "      <td>-8.635254e-01</td>\n",
       "      <td>1.341896e-02</td>\n",
       "      <td>-1.341896e-02</td>\n",
       "      <td>1.000000</td>\n",
       "    </tr>\n",
       "  </tbody>\n",
       "</table>\n",
       "</div>"
      ],
      "text/plain": [
       "                            Year  Single Year of Age    Sex_Female  \\\n",
       "Year                1.000000e+00        1.103015e-14  7.033112e-17   \n",
       "Single Year of Age  1.103015e-14        1.000000e+00  1.099216e-18   \n",
       "Sex_Female          7.033112e-17        1.099216e-18  1.000000e+00   \n",
       "Sex_Male            2.822591e-15        9.826988e-17 -1.000000e+00   \n",
       "VALUE               2.018366e-01       -8.635254e-01  1.341896e-02   \n",
       "\n",
       "                        Sex_Male     VALUE  \n",
       "Year                2.822591e-15  0.201837  \n",
       "Single Year of Age  9.826988e-17 -0.863525  \n",
       "Sex_Female         -1.000000e+00  0.013419  \n",
       "Sex_Male            1.000000e+00 -0.013419  \n",
       "VALUE              -1.341896e-02  1.000000  "
      ]
     },
     "execution_count": 57,
     "metadata": {},
     "output_type": "execute_result"
    }
   ],
   "source": [
    "correlation_matrix"
   ]
  },
  {
   "cell_type": "code",
   "execution_count": 58,
   "id": "f1df6d55",
   "metadata": {},
   "outputs": [
    {
     "data": {
      "image/png": "[encoded data removed]",
      "text/plain": [
       "<Figure size 600x400 with 2 Axes>"
      ]
     },
     "metadata": {},
     "output_type": "display_data"
    }
   ],
   "source": [
    "plt.figure(figsize=(6, 4))  \n",
    "sns.heatmap(correlation_matrix, annot=True, cmap='coolwarm', fmt=\".2f\")\n",
    "plt.title(\"Correlation Heatmap\")\n",
    "plt.show()"
   ]
  },
  {
   "cell_type": "code",
   "execution_count": 59,
   "id": "c75858e5",
   "metadata": {},
   "outputs": [],
   "source": [
    "x = data.iloc[:,0:4]"
   ]
  },
  {
   "cell_type": "code",
   "execution_count": 60,
   "id": "2458f684",
   "metadata": {},
   "outputs": [
    {
     "data": {
      "text/html": [
       "<div>\n",
       "<style scoped>\n",
       "    .dataframe tbody tr th:only-of-type {\n",
       "        vertical-align: middle;\n",
       "    }\n",
       "\n",
       "    .dataframe tbody tr th {\n",
       "        vertical-align: top;\n",
       "    }\n",
       "\n",
       "    .dataframe thead th {\n",
       "        text-align: right;\n",
       "    }\n",
       "</style>\n",
       "<table border=\"1\" class=\"dataframe\">\n",
       "  <thead>\n",
       "    <tr style=\"text-align: right;\">\n",
       "      <th></th>\n",
       "      <th>Year</th>\n",
       "      <th>Single Year of Age</th>\n",
       "      <th>Sex_Female</th>\n",
       "      <th>Sex_Male</th>\n",
       "    </tr>\n",
       "  </thead>\n",
       "  <tbody>\n",
       "    <tr>\n",
       "      <th>0</th>\n",
       "      <td>1996</td>\n",
       "      <td>0.5</td>\n",
       "      <td>0</td>\n",
       "      <td>1</td>\n",
       "    </tr>\n",
       "    <tr>\n",
       "      <th>1</th>\n",
       "      <td>1996</td>\n",
       "      <td>0.5</td>\n",
       "      <td>1</td>\n",
       "      <td>0</td>\n",
       "    </tr>\n",
       "    <tr>\n",
       "      <th>2</th>\n",
       "      <td>1996</td>\n",
       "      <td>1.0</td>\n",
       "      <td>0</td>\n",
       "      <td>1</td>\n",
       "    </tr>\n",
       "  </tbody>\n",
       "</table>\n",
       "</div>"
      ],
      "text/plain": [
       "   Year  Single Year of Age  Sex_Female  Sex_Male\n",
       "0  1996                 0.5           0         1\n",
       "1  1996                 0.5           1         0\n",
       "2  1996                 1.0           0         1"
      ]
     },
     "execution_count": 60,
     "metadata": {},
     "output_type": "execute_result"
    }
   ],
   "source": [
    "x[:3]"
   ]
  },
  {
   "cell_type": "code",
   "execution_count": 61,
   "id": "26a6f8d3",
   "metadata": {},
   "outputs": [],
   "source": [
    "y = data.iloc[:,-1]"
   ]
  },
  {
   "cell_type": "code",
   "execution_count": 62,
   "id": "9e3d211e",
   "metadata": {},
   "outputs": [
    {
     "data": {
      "text/plain": [
       "0    25231\n",
       "1    23623\n",
       "2    24963\n",
       "Name: VALUE, dtype: int64"
      ]
     },
     "execution_count": 62,
     "metadata": {},
     "output_type": "execute_result"
    }
   ],
   "source": [
    "y[:3]"
   ]
  },
  {
   "cell_type": "code",
   "execution_count": 63,
   "id": "1e94ef28",
   "metadata": {},
   "outputs": [],
   "source": [
    "from sklearn.preprocessing import StandardScaler, MinMaxScaler\n",
    "scaler = StandardScaler()\n",
    "x = scaler.fit_transform(x)"
   ]
  },
  {
   "cell_type": "code",
   "execution_count": 64,
   "id": "71d9cd95",
   "metadata": {},
   "outputs": [
    {
     "data": {
      "text/plain": [
       "array([[-1.67125804, -1.69816984, -1.        ,  1.        ],\n",
       "       [-1.67125804, -1.69816984,  1.        , -1.        ],\n",
       "       [-1.67125804, -1.68084335, -1.        ,  1.        ],\n",
       "       ...,\n",
       "       [ 1.67125804,  1.68049682,  1.        , -1.        ],\n",
       "       [ 1.67125804,  1.71514981, -1.        ,  1.        ],\n",
       "       [ 1.67125804,  1.71514981,  1.        , -1.        ]])"
      ]
     },
     "execution_count": 64,
     "metadata": {},
     "output_type": "execute_result"
    }
   ],
   "source": [
    "x"
   ]
  },
  {
   "cell_type": "code",
   "execution_count": 65,
   "id": "e3492d67",
   "metadata": {},
   "outputs": [],
   "source": [
    "from sklearn.model_selection import train_test_split\n",
    "\n",
    "X_train, X_test, y_train, y_test = train_test_split(x, y, test_size=0.2, random_state=0)"
   ]
  },
  {
   "cell_type": "code",
   "execution_count": 66,
   "id": "51e65951",
   "metadata": {},
   "outputs": [],
   "source": [
    "from sklearn.model_selection import cross_val_score\n",
    "from sklearn.metrics import mean_squared_error, r2_score"
   ]
  },
  {
   "cell_type": "code",
   "execution_count": 67,
   "id": "97236085",
   "metadata": {},
   "outputs": [],
   "source": [
    "#(393353**0.5)/25231 *100"
   ]
  },
  {
   "cell_type": "code",
   "execution_count": 68,
   "id": "7882ad46",
   "metadata": {},
   "outputs": [
    {
     "name": "stdout",
     "output_type": "stream",
     "text": [
      "Linear Regression (MSE): 30872154.416138384\n",
      "Linear Regression R平方 (R-squared): 0.7872980406336839\n"
     ]
    }
   ],
   "source": [
    "from sklearn.linear_model import LinearRegression\n",
    "model = LinearRegression()\n",
    "model.fit(X_train, y_train)\n",
    "y_pred = model.predict(X_test)\n",
    "mse = mean_squared_error(y_test, y_pred)\n",
    "r2 = r2_score(y_test, y_pred)\n",
    "print(\"Linear Regression (MSE):\", mse)\n",
    "print(\"Linear Regression R平方 (R-squared):\", r2)"
   ]
  },
  {
   "cell_type": "code",
   "execution_count": 69,
   "id": "fe3a5c6d",
   "metadata": {},
   "outputs": [
    {
     "name": "stdout",
     "output_type": "stream",
     "text": [
      "Best alpha (C): 0.06522117123602399\n",
      "Coefficients: \n",
      " [  2441.03409036 -10417.35338231     70.67525922    -70.67525922]\n",
      "Ridge regression (MSE): 30878649.79\n",
      "Ridge regression (R-squared): 0.79\n"
     ]
    }
   ],
   "source": [
    "from sklearn.linear_model import Ridge\n",
    "from sklearn.model_selection import RandomizedSearchCV\n",
    "from scipy.stats import uniform\n",
    "\n",
    "# Define Ridge Model\n",
    "ridge_model = Ridge()\n",
    "\n",
    "# Define the range of alpha values to search, using a uniform distribution here.\n",
    "param_dist = {'alpha': uniform(0.01, 10)}\n",
    "\n",
    "# Create a RandomizedSearchCV object.\n",
    "random_search = RandomizedSearchCV(\n",
    "    ridge_model, param_distributions=param_dist, n_iter=100, scoring='neg_mean_squared_error', cv=10, random_state=42\n",
    ")\n",
    "\n",
    "# Perform a random search.\n",
    "random_search.fit(X_train, y_train)\n",
    "\n",
    "# Obtain the best Ridge model.\n",
    "best_ridge_model = random_search.best_estimator_\n",
    "\n",
    "# Make predictions using the best model.\n",
    "y_pred = best_ridge_model.predict(X_test)\n",
    "\n",
    "# Calculate the Mean Squared Error (MSE) and the coefficient of determination (R-squared).\n",
    "mse = mean_squared_error(y_test, y_pred)\n",
    "r2 = r2_score(y_test, y_pred)\n",
    "\n",
    "# Print the best alpha (regularization parameter) and model performance metrics.\n",
    "print('Best alpha (C):', best_ridge_model.alpha)\n",
    "print('Coefficients: \\n', best_ridge_model.coef_)\n",
    "print('Ridge regression (MSE): %.2f' % mse)\n",
    "print('Ridge regression (R-squared): %.2f' % r2)"
   ]
  },
  {
   "cell_type": "code",
   "execution_count": 70,
   "id": "bf68aec3",
   "metadata": {},
   "outputs": [
    {
     "name": "stdout",
     "output_type": "stream",
     "text": [
      "Best alpha: 10.410726425393213\n",
      "Lasso regression (MSE): 31018630.63\n",
      "Lasso regression (R-squared): 0.79\n"
     ]
    }
   ],
   "source": [
    "from sklearn.model_selection import KFold\n",
    "from sklearn.linear_model import LassoCV\n",
    "\n",
    "\n",
    "# Define a KFold cross-validation with 1000splits\n",
    "kf = KFold(n_splits=1000, shuffle=True, random_state=42)\n",
    "\n",
    "# Create a LassoCV model with cross-validation using KFold\n",
    "lasso_cv = LassoCV(cv=kf, max_iter=10000, random_state=42)\n",
    "\n",
    "# Fit the LassoCV model to the data (x, y).\n",
    "lasso_cv.fit(x, y)\n",
    "\n",
    "# Print the best alpha (regularization parameter) selected by LassoCV.\n",
    "print(\"Best alpha:\", lasso_cv.alpha_)\n",
    "\n",
    "# Make predictions using the trained LassoCV model.\n",
    "Y_pred = lasso_cv.predict(x)\n",
    "\n",
    "# Calculate the Mean Squared Error (MSE) between the true values (y) and predicted values (Y_pred).\n",
    "mse = mean_squared_error(y, Y_pred)\n",
    "\n",
    "# Calculate the coefficient of determination (R-squared) to assess model performance.\n",
    "r2 = r2_score(y, Y_pred)\n",
    "\n",
    "# Print the Mean Squared Error (MSE) and Coefficient of Determination (R-squared).\n",
    "print('Lasso regression (MSE): %.2f' % mse)\n",
    "print('Lasso regression (R-squared): %.2f' % r2)\n"
   ]
  },
  {
   "cell_type": "code",
   "execution_count": 71,
   "id": "60ec2963",
   "metadata": {},
   "outputs": [
    {
     "name": "stderr",
     "output_type": "stream",
     "text": [
      "C:\\Users\\luozh\\anaconda3\\lib\\site-packages\\sklearn\\model_selection\\_validation.py:372: FitFailedWarning: \n",
      "40 fits failed out of a total of 160.\n",
      "The score on these train-test partitions for these parameters will be set to nan.\n",
      "If these failures are not expected, you can try to debug them by setting error_score='raise'.\n",
      "\n",
      "Below are more details about the failures:\n",
      "--------------------------------------------------------------------------------\n",
      "40 fits failed with the following error:\n",
      "Traceback (most recent call last):\n",
      "  File \"C:\\Users\\luozh\\anaconda3\\lib\\site-packages\\sklearn\\model_selection\\_validation.py\", line 680, in _fit_and_score\n",
      "    estimator.fit(X_train, y_train, **fit_params)\n",
      "  File \"C:\\Users\\luozh\\anaconda3\\lib\\site-packages\\sklearn\\svm\\_base.py\", line 255, in fit\n",
      "    fit(X, y, sample_weight, solver_type, kernel, random_seed=seed)\n",
      "  File \"C:\\Users\\luozh\\anaconda3\\lib\\site-packages\\sklearn\\svm\\_base.py\", line 315, in _dense_fit\n",
      "    ) = libsvm.fit(\n",
      "  File \"sklearn\\svm\\_libsvm.pyx\", line 189, in sklearn.svm._libsvm.fit\n",
      "ValueError: C <= 0\n",
      "\n",
      "  warnings.warn(some_fits_failed_message, FitFailedWarning)\n",
      "C:\\Users\\luozh\\anaconda3\\lib\\site-packages\\sklearn\\model_selection\\_search.py:969: UserWarning: One or more of the test scores are non-finite: [-33629164.40607212  -4760593.57893285 -33629325.00855077\n",
      "  -4760593.93462842 -33629487.2428167   -4760597.77087506\n",
      " -33630805.53442699  -4760732.13173387 -33635254.53901474\n",
      "  -4214427.56462133 -33635303.75703542  -4214415.72866443\n",
      " -33635354.43193613  -4214405.53329204 -33635643.8362281\n",
      "  -4214296.02949021 -33631544.61775368  -3761786.02962728\n",
      " -33631647.36406095  -3761820.51648437 -33631678.0324391\n",
      "  -3761836.82905288 -33631895.70645541  -3761873.12458471\n",
      "                nan                nan                nan\n",
      "                nan                nan                nan\n",
      "                nan                nan]\n",
      "  warnings.warn(\n"
     ]
    },
    {
     "name": "stdout",
     "output_type": "stream",
     "text": [
      "Best hyperparameters: {'C': 1000000, 'epsilon': 0.1, 'kernel': 'rbf'}\n",
      "SVR regression (MSE): 3249237.114947746\n",
      "SVR regression (R-squared): 0.9776135124397454\n"
     ]
    }
   ],
   "source": [
    "from sklearn.model_selection import GridSearchCV\n",
    "from sklearn.svm import SVR\n",
    "\n",
    "# Define the hyperparameter grid to search\n",
    "param_grid = {\n",
    "    'kernel': ['linear', 'rbf'],  # Different kernel functions\n",
    "    'C': [10000.0,100000.0,1000000,0],              # Different regularization parameters\n",
    "    'epsilon': [0.1, 0.2, 0.3,1]         # Different tolerance parameters\n",
    "}\n",
    "\n",
    "# Create an SVR model\n",
    "svr = SVR()\n",
    "\n",
    "# Use GridSearchCV for hyperparameter tuning with 5-fold cross-validation and negative mean squared error as the scoring metric\n",
    "grid_search = GridSearchCV(svr, param_grid, cv=5, scoring='neg_mean_squared_error')\n",
    "\n",
    "# Fit the model to the training datarandom_state=42 (X_train, y_train) using grid search\n",
    "grid_search.fit(X_train, y_train)\n",
    "\n",
    "# Get the best hyperparameter combination\n",
    "best_params = grid_search.best_params_\n",
    "\n",
    "# Create the best SVR model based on the best hyperparameters\n",
    "best_model = SVR(**best_params)\n",
    "\n",
    "# Fit the best model to the training data\n",
    "best_model.fit(X_train, y_train)\n",
    "\n",
    "# Use the best model to make predictions on the test data (X_test)\n",
    "y_pred = best_model.predict(X_test)\n",
    "\n",
    "# Calculate the Mean Squared Error (MSE) and coefficient of determination (R-squared) to evaluate model performance\n",
    "mse = mean_squared_error(y_test, y_pred)\n",
    "r2 = r2_score(y_test, y_pred)\n",
    "\n",
    "# Print the best hyperparameters and model performance metrics\n",
    "print(\"Best hyperparameters:\", best_params)\n",
    "print(\"SVR regression (MSE):\", mse)\n",
    "print(\"SVR regression (R-squared):\", r2)"
   ]
  },
  {
   "cell_type": "code",
   "execution_count": 72,
   "id": "317db092",
   "metadata": {},
   "outputs": [
    {
     "name": "stdout",
     "output_type": "stream",
     "text": [
      "Best n_neighbors parameter: 7\n",
      "KNN regression (MSE): 403443.75284256565\n",
      "KNN regression - R-squared: 0.9972203664322548\n"
     ]
    }
   ],
   "source": [
    "from sklearn.neighbors import KNeighborsRegressor\n",
    "\n",
    "# Define a parameter grid for the number of neighbors\n",
    "param_grid = {'n_neighbors': list(range(1, 18))}\n",
    "\n",
    "# Create a KNeighborsRegressor model.\n",
    "knn = KNeighborsRegressor()\n",
    "\n",
    "# Initialize GridSearchCV with KNeighborsRegressor, the parameter grid, 5-fold cross-validation, and negative mean squared error as the scoring metric.\n",
    "grid_search = GridSearchCV(knn, param_grid, cv=5, scoring='neg_mean_squared_error')\n",
    "\n",
    "# Fit the grid search to the training data (X_train, y_train).\n",
    "grid_search.fit(X_train, y_train)\n",
    "\n",
    "# Get the best value for the number of neighbors (n_neighbors) from the grid search results.\n",
    "best_n_neighbors = grid_search.best_params_['n_neighbors']\n",
    "\n",
    "# Create the best KNeighborsRegressor model using the best number of neighbors.\n",
    "best_model = KNeighborsRegressor(n_neighbors=best_n_neighbors)\n",
    "\n",
    "# Fit the best model to the training data.\n",
    "best_model.fit(X_train, y_train)\n",
    "\n",
    "# Make predictions on the test data (X_test).\n",
    "y_pred = best_model.predict(X_test)\n",
    "\n",
    "# Calculate the Mean Squared Error (MSE) between the true values (y_test) and predicted values (y_pred).\n",
    "mse = mean_squared_error(y_test, y_pred)\n",
    "\n",
    "# Calculate the coefficient of determination (R-squared) to assess model performance.\n",
    "r2 = r2_score(y_test, y_pred)\n",
    "\n",
    "# Print the best value for the number of neighbors, MSE, and R-squared.\n",
    "print(\"Best n_neighbors parameter:\", best_n_neighbors)\n",
    "print(\"KNN regression (MSE):\", mse)\n",
    "print(\"KNN regression - R-squared:\", r2)"
   ]
  },
  {
   "cell_type": "code",
   "execution_count": 73,
   "id": "6bf7cd5e",
   "metadata": {},
   "outputs": [
    {
     "data": {
      "image/png": "[encoded data removed]",
      "text/plain": [
       "<Figure size 800x400 with 2 Axes>"
      ]
     },
     "metadata": {},
     "output_type": "display_data"
    }
   ],
   "source": [
    "import matplotlib.pyplot as plt\n",
    "import seaborn as sns\n",
    "\n",
    "models = ['KNN Regression', 'SVM Regression', 'Lasso Regression', 'Ridge Regression', 'Linear Regression']\n",
    "\n",
    "mse = [403443.75, 3249237.11, 31018630.63, 30878649.79, 30872154.42]\n",
    "\n",
    "r_squared = [0.9972, 0.9776, 0.79, 0.79, 0.7873]\n",
    "\n",
    "import pandas as pd\n",
    "data = pd.DataFrame({'Model': models, 'MSE': mse, 'R-squared': r_squared})\n",
    "\n",
    "# Set the plot style\n",
    "sns.set(style=\"whitegrid\")\n",
    "\n",
    "# Create a figure\n",
    "plt.figure(figsize=(8, 4))\n",
    "\n",
    "# Create a bar plot for MSE\n",
    "plt.subplot(2, 1, 1)\n",
    "sns.barplot(x='MSE', y='Model', data=data, palette='viridis')\n",
    "plt.xlabel('Mean Squared Error (MSE)')\n",
    "plt.title('Comparison of MSE among Different Regression Models')\n",
    "\n",
    "# Create a bar plot for R-squared\n",
    "plt.subplot(2, 1, 2)\n",
    "sns.barplot(x='R-squared', y='Model', data=data, palette='viridis')\n",
    "plt.xlabel('R-squared')\n",
    "plt.title('Comparison of R-squared among Different Regression Models')\n",
    "\n",
    "# Adjust the spacing between subplots\n",
    "plt.tight_layout()\n",
    "\n",
    "plt.show()\n"
   ]
  },
  {
   "cell_type": "code",
   "execution_count": null,
   "id": "0d6738fd",
   "metadata": {},
   "outputs": [],
   "source": []
  }
 ],
 "metadata": {
  "kernelspec": {
   "display_name": "Python 3 (ipykernel)",
   "language": "python",
   "name": "python3"
  },
  "language_info": {
   "codemirror_mode": {
    "name": "ipython",
    "version": 3
   },
   "file_extension": ".py",
   "mimetype": "text/x-python",
   "name": "python",
   "nbconvert_exporter": "python",
   "pygments_lexer": "ipython3",
   "version": "3.10.13"
  }
 },
 "nbformat": 4,
 "nbformat_minor": 5
}
